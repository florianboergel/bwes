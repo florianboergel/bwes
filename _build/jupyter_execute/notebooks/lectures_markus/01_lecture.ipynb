{
 "cells": [
  {
   "cell_type": "markdown",
   "metadata": {},
   "source": [
    "# Lecture 1: Introduction\n",
    "\n",
    "Teacher: Prof. Dr. Markus Meier\n",
    "\n",
    "Leibniz Institute for Baltic Sea Research Warnemünde (IOW)\n",
    "\n",
    "> markus.meier@io-warnemuende.de\n"
   ]
  },
  {
   "cell_type": "markdown",
   "metadata": {},
   "source": [
    "## General information\n",
    "\n",
    "**about the course**\n",
    "1. Climate of the Ocean (winter term)\n",
    "2. Climate of the Baltic Sea Region (summer school in August, on Askö, Sweden)\n",
    "3. Analysis of Climate Variability (winter school in March, at IOW in Warnemünde), part of the master in physics at Rostock University\n",
    "\n",
    "• Professor in physical oceanography at the Leibniz\n",
    "Institute for Baltic Sea Research Warnemünde (IOW) and Rostock University, master thesis\n"
   ]
  },
  {
   "cell_type": "markdown",
   "metadata": {},
   "source": [
    "Baltic Earth\n",
    "http://www.baltic.earth/\n",
    "\n",
    "![](https://blogs.helmholtz.de/kuestenforschung/wp-content/uploads/sites/25/2021/01/210121_titel_BE-778x345.jpg)\n",
    "\n",
    "Earth System Science for the Baltic Sea basin"
   ]
  },
  {
   "cell_type": "markdown",
   "metadata": {},
   "source": [
    "## The Baltic Sea region\n",
    "\n",
    "![](../../figures/meier_et_al_2014_catchment.png)\n",
    "\n",
    "- Basin: 2.13 Mill. $km^2$ (20% of\n",
    "the European continent)\n",
    "- Baltic Sea: 380 000 km2\n",
    "- 85 million in 14 countries\n",
    "- Variable climate and\n",
    "topography\n",
    "- Considerable seasonal, inter-annual, decadal and long-term variations\n",
    "- Unique, challenging region\n",
    "for climate and environmental studies (data,\n",
    "models and observations, budgets)\n",
    "- Environmental issues of concern"
   ]
  },
  {
   "cell_type": "markdown",
   "metadata": {},
   "source": [
    "## Earth System Science for the Baltic Sea region\n",
    "\n",
    "![](https://sgp1.digitaloceanspaces.com/cosmosgroup-dc/news/owPuY0hiSHeTqGwW5tiqiLaFp5ExdGVKCsPEA00V.jpeg)\n",
    "\n",
    "```{note}\n",
    "Earth system science treat the Earth as an integrated system and seeks a deeper understanding of the physical, chemical, biological and human interactions that determine the past, current and future states of the Earth```"
   ]
  },
  {
   "cell_type": "markdown",
   "metadata": {},
   "source": [
    "## Information about the course\n",
    "\n",
    "- Rostock University (master in physics): 3 ECTS (16 lectures á 90 min, tutorials and exercises, 45 minutes examination)\n",
    "- ECTS from Rostock University (exercises and exam mandatory)\n",
    "- Diploma from Baltic Earth"
   ]
  },
  {
   "cell_type": "markdown",
   "metadata": {},
   "source": [
    "## Literature\n",
    "\n",
    "Lecture notes: Dietmar Dommenget\n",
    "https://users.monash.edu.au/~dietmard/teaching/honours.statistics/dommenget.statistics.lecture.notes.pdf\n",
    "\n",
    "Daniel Wilks: Statistical Methods in the Atmospheric Sciences.\n",
    "DOI: 10.1016/B978-0-12-385022-5.00001-4\n",
    "\n",
    "Hans von Storch and Francis W. Zwiers: Statistical Analysis in Climate Research. Cambridge University Press"
   ]
  }
 ],
 "metadata": {
  "interpreter": {
   "hash": "d5f83bbddec2fad62f798bddde282a6482dd60734d4bf269b14c3a8e72d12866"
  },
  "kernelspec": {
   "display_name": "Python 3.9.7 64-bit ('gui': conda)",
   "language": "python",
   "name": "python3"
  },
  "language_info": {
   "name": "python",
   "version": "3.9.7"
  }
 },
 "nbformat": 4,
 "nbformat_minor": 2
}