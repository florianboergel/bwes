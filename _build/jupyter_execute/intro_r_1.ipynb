{
 "cells": [
  {
   "cell_type": "markdown",
   "id": "equipped-attendance",
   "metadata": {},
   "source": [
    "# Introduction into R - Part 1\n",
    "This is part 1/2 of the introduction into R that is given for the Baltic Earth Winter School (BEWS). Feel free to share and distribute it.\n",
    "\n",
    "## Outline\n",
    "Part 1 of the introduction teaches some basic functionality of R. \n",
    "* Variables and their data types\n",
    "* Vectors and data.frames\n",
    "* Reading and writing data (textfiles)\n",
    "* Creating simple plots\n",
    "* Using \"apply\" and \"aggregate\"\n",
    "* Loops and if-clauses\n",
    "* Writing your own functions\n",
    "\n",
    "Part 2 of the introduction teaches some R features specific to the analysis of time series and spatial data.\n",
    "* Data formats for storing time information\n",
    "* Simple linear models (regression)\n",
    "* Lists vs Vectors\n",
    "* Working with NetCDF data\n",
    "* Plotting simple maps\n",
    "* Basic statistical tests"
   ]
  },
  {
   "cell_type": "markdown",
   "id": "latin-surfing",
   "metadata": {},
   "source": [
    "## 1. Variables and their data types\n",
    "\n",
    "Variables will be created in R just by assigning them a value. There are two operators for this: `=` and `<-` which represents an arrow to the left."
   ]
  },
  {
   "cell_type": "code",
   "execution_count": 14,
   "id": "adult-extraction",
   "metadata": {},
   "outputs": [],
   "source": [
    "a = 3\n",
    "b <- 4    # this does the same"
   ]
  },
  {
   "cell_type": "markdown",
   "id": "complete-flood",
   "metadata": {},
   "source": [
    "<span style=\"color: red;\">Task: </span> Access the values of a and b by just typing them. Alternatively, use the `print()` function to access their value"
   ]
  },
  {
   "cell_type": "code",
   "execution_count": 2,
   "id": "oriental-boutique",
   "metadata": {},
   "outputs": [
    {
     "data": {
      "text/html": [
       "3"
      ],
      "text/latex": [
       "3"
      ],
      "text/markdown": [
       "3"
      ],
      "text/plain": [
       "[1] 3"
      ]
     },
     "metadata": {},
     "output_type": "display_data"
    }
   ],
   "source": [
    "a"
   ]
  },
  {
   "cell_type": "code",
   "execution_count": 3,
   "id": "educated-teacher",
   "metadata": {},
   "outputs": [
    {
     "data": {
      "text/html": [
       "4"
      ],
      "text/latex": [
       "4"
      ],
      "text/markdown": [
       "4"
      ],
      "text/plain": [
       "[1] 4"
      ]
     },
     "metadata": {},
     "output_type": "display_data"
    }
   ],
   "source": [
    "b"
   ]
  },
  {
   "cell_type": "markdown",
   "id": "anonymous-capitol",
   "metadata": {},
   "source": [
    "<img src=\"https://i0.wp.com/pythagoras.nu/wp-content/uploads/2019/03/pythagoras-theorem.png?resize=480%2C352&ssl=1\" width=200>\n",
    "<span style=\"color: red;\">Task: </span> a and b are the shorter sides of a right-angled triangle. Calculate the longer side c using the `sqrt()` function."
   ]
  },
  {
   "cell_type": "code",
   "execution_count": 6,
   "id": "academic-meditation",
   "metadata": {},
   "outputs": [
    {
     "data": {
      "text/html": [
       "5"
      ],
      "text/latex": [
       "5"
      ],
      "text/markdown": [
       "5"
      ],
      "text/plain": [
       "[1] 5"
      ]
     },
     "metadata": {},
     "output_type": "display_data"
    }
   ],
   "source": [
    "sqrt((a^2)+(b^2))"
   ]
  },
  {
   "cell_type": "markdown",
   "id": "postal-airplane",
   "metadata": {},
   "source": [
    "To see which variables are defined, do a right-click to a code cell and click \"open vaiable inspector\". You can click at the tab of the variable inspector and move it to the very right of your screen, so it will show up in a separate column.\n",
    "\n",
    "You see that a and b are of type \"numeric\". Let's see if we can create some other types."
   ]
  },
  {
   "cell_type": "code",
   "execution_count": 15,
   "id": "structural-reducing",
   "metadata": {},
   "outputs": [],
   "source": [
    "sentence = \"I like hamsters.\"\n",
    "truth = TRUE\n",
    "lie = FALSE"
   ]
  },
  {
   "cell_type": "markdown",
   "id": "illegal-vegetarian",
   "metadata": {},
   "source": [
    "We can use the `class()` function to check which data type a variable has."
   ]
  },
  {
   "cell_type": "code",
   "execution_count": 8,
   "id": "conditional-publisher",
   "metadata": {},
   "outputs": [
    {
     "data": {
      "text/html": [
       "'character'"
      ],
      "text/latex": [
       "'character'"
      ],
      "text/markdown": [
       "'character'"
      ],
      "text/plain": [
       "[1] \"character\""
      ]
     },
     "metadata": {},
     "output_type": "display_data"
    }
   ],
   "source": [
    "class(sentence)"
   ]
  },
  {
   "cell_type": "markdown",
   "id": "latter-ensemble",
   "metadata": {},
   "source": [
    "We can convert variables to other types by using functions starting with `as.`"
   ]
  },
  {
   "cell_type": "code",
   "execution_count": 9,
   "id": "forty-lawyer",
   "metadata": {},
   "outputs": [
    {
     "data": {
      "text/html": [
       "3.14159265358979"
      ],
      "text/latex": [
       "3.14159265358979"
      ],
      "text/markdown": [
       "3.14159265358979"
      ],
      "text/plain": [
       "[1] 3.141593"
      ]
     },
     "metadata": {},
     "output_type": "display_data"
    },
    {
     "data": {
      "text/html": [
       "'3.14159265358979'"
      ],
      "text/latex": [
       "'3.14159265358979'"
      ],
      "text/markdown": [
       "'3.14159265358979'"
      ],
      "text/plain": [
       "[1] \"3.14159265358979\""
      ]
     },
     "metadata": {},
     "output_type": "display_data"
    }
   ],
   "source": [
    "pi\n",
    "as.character(pi)"
   ]
  },
  {
   "cell_type": "code",
   "execution_count": 10,
   "id": "chubby-howard",
   "metadata": {},
   "outputs": [
    {
     "data": {
      "text/html": [
       "1"
      ],
      "text/latex": [
       "1"
      ],
      "text/markdown": [
       "1"
      ],
      "text/plain": [
       "[1] 1"
      ]
     },
     "metadata": {},
     "output_type": "display_data"
    },
    {
     "data": {
      "text/html": [
       "0"
      ],
      "text/latex": [
       "0"
      ],
      "text/markdown": [
       "0"
      ],
      "text/plain": [
       "[1] 0"
      ]
     },
     "metadata": {},
     "output_type": "display_data"
    }
   ],
   "source": [
    "as.numeric(truth)\n",
    "as.numeric(lie)"
   ]
  },
  {
   "cell_type": "markdown",
   "id": "small-exchange",
   "metadata": {},
   "source": [
    "We can use the `ls()` function to see which variables exist."
   ]
  },
  {
   "cell_type": "code",
   "execution_count": 16,
   "id": "conventional-determination",
   "metadata": {},
   "outputs": [
    {
     "data": {
      "text/html": [
       "<ol class=list-inline>\n",
       "\t<li>'a'</li>\n",
       "\t<li>'b'</li>\n",
       "\t<li>'lie'</li>\n",
       "\t<li>'sentence'</li>\n",
       "\t<li>'truth'</li>\n",
       "</ol>\n"
      ],
      "text/latex": [
       "\\begin{enumerate*}\n",
       "\\item 'a'\n",
       "\\item 'b'\n",
       "\\item 'lie'\n",
       "\\item 'sentence'\n",
       "\\item 'truth'\n",
       "\\end{enumerate*}\n"
      ],
      "text/markdown": [
       "1. 'a'\n",
       "2. 'b'\n",
       "3. 'lie'\n",
       "4. 'sentence'\n",
       "5. 'truth'\n",
       "\n",
       "\n"
      ],
      "text/plain": [
       "[1] \"a\"        \"b\"        \"lie\"      \"sentence\" \"truth\"   "
      ]
     },
     "metadata": {},
     "output_type": "display_data"
    }
   ],
   "source": [
    "ls()"
   ]
  },
  {
   "cell_type": "markdown",
   "id": "institutional-activation",
   "metadata": {},
   "source": [
    "We can use the `rm()` function to delete a variable (we can pass the variable, its name, or a list of names)."
   ]
  },
  {
   "cell_type": "code",
   "execution_count": 12,
   "id": "potential-twins",
   "metadata": {},
   "outputs": [],
   "source": [
    "rm(truth)\n",
    "rm(\"lie\")\n",
    "rm(list=c(\"a\",\"b\"))"
   ]
  },
  {
   "cell_type": "markdown",
   "id": "spatial-smart",
   "metadata": {},
   "source": [
    "<span style=\"color: red;\">Task: </span> Delete all existing variables using a single command."
   ]
  },
  {
   "cell_type": "code",
   "execution_count": 1,
   "id": "asian-uniform",
   "metadata": {},
   "outputs": [],
   "source": [
    "rm(list=ls())"
   ]
  },
  {
   "cell_type": "markdown",
   "id": "amended-valuable",
   "metadata": {},
   "source": [
    "## 2. Vectors, lists and data.frames\n",
    "\n",
    "### 2.1 Vectors\n",
    "\n",
    "If you have several values, it makes sense to store them in a vector. The default option to create a vector is using the `c()` function:"
   ]
  },
  {
   "cell_type": "code",
   "execution_count": 22,
   "id": "static-amendment",
   "metadata": {},
   "outputs": [
    {
     "name": "stdout",
     "output_type": "stream",
     "text": [
      "[1] 1 2 3\n"
     ]
    }
   ],
   "source": [
    "vec1 = c(1,2,3)\n",
    "print(vec1)"
   ]
  },
  {
   "cell_type": "markdown",
   "id": "regulation-kingston",
   "metadata": {},
   "source": [
    "But there are several ways of creating a vector. You can for example repeat something, or create a sequence."
   ]
  },
  {
   "cell_type": "code",
   "execution_count": 23,
   "id": "overhead-inclusion",
   "metadata": {},
   "outputs": [
    {
     "name": "stdout",
     "output_type": "stream",
     "text": [
      "  [1] \"abc\" \"abc\" \"abc\" \"abc\" \"abc\" \"abc\" \"abc\" \"abc\" \"abc\" \"abc\" \"abc\" \"abc\"\n",
      " [13] \"abc\" \"abc\" \"abc\" \"abc\" \"abc\" \"abc\" \"abc\" \"abc\" \"abc\" \"abc\" \"abc\" \"abc\"\n",
      " [25] \"abc\" \"abc\" \"abc\" \"abc\" \"abc\" \"abc\" \"abc\" \"abc\" \"abc\" \"abc\" \"abc\" \"abc\"\n",
      " [37] \"abc\" \"abc\" \"abc\" \"abc\" \"abc\" \"abc\" \"abc\" \"abc\" \"abc\" \"abc\" \"abc\" \"abc\"\n",
      " [49] \"abc\" \"abc\" \"abc\" \"abc\" \"abc\" \"abc\" \"abc\" \"abc\" \"abc\" \"abc\" \"abc\" \"abc\"\n",
      " [61] \"abc\" \"abc\" \"abc\" \"abc\" \"abc\" \"abc\" \"abc\" \"abc\" \"abc\" \"abc\" \"abc\" \"abc\"\n",
      " [73] \"abc\" \"abc\" \"abc\" \"abc\" \"abc\" \"abc\" \"abc\" \"abc\" \"abc\" \"abc\" \"abc\" \"abc\"\n",
      " [85] \"abc\" \"abc\" \"abc\" \"abc\" \"abc\" \"abc\" \"abc\" \"abc\" \"abc\" \"abc\" \"abc\" \"abc\"\n",
      " [97] \"abc\" \"abc\" \"abc\" \"abc\"\n"
     ]
    }
   ],
   "source": [
    "vec2 = rep(\"abc\", 100)\n",
    "print(vec2)"
   ]
  },
  {
   "cell_type": "code",
   "execution_count": 24,
   "id": "double-correction",
   "metadata": {},
   "outputs": [
    {
     "name": "stdout",
     "output_type": "stream",
     "text": [
      "[1]  4  5  6  7  8  9 10\n"
     ]
    }
   ],
   "source": [
    "vec3 = 4:10\n",
    "print(vec3)"
   ]
  },
  {
   "cell_type": "code",
   "execution_count": 25,
   "id": "greater-beginning",
   "metadata": {},
   "outputs": [
    {
     "name": "stdout",
     "output_type": "stream",
     "text": [
      "  [1] 10.0 10.1 10.2 10.3 10.4 10.5 10.6 10.7 10.8 10.9 11.0 11.1 11.2 11.3 11.4\n",
      " [16] 11.5 11.6 11.7 11.8 11.9 12.0 12.1 12.2 12.3 12.4 12.5 12.6 12.7 12.8 12.9\n",
      " [31] 13.0 13.1 13.2 13.3 13.4 13.5 13.6 13.7 13.8 13.9 14.0 14.1 14.2 14.3 14.4\n",
      " [46] 14.5 14.6 14.7 14.8 14.9 15.0 15.1 15.2 15.3 15.4 15.5 15.6 15.7 15.8 15.9\n",
      " [61] 16.0 16.1 16.2 16.3 16.4 16.5 16.6 16.7 16.8 16.9 17.0 17.1 17.2 17.3 17.4\n",
      " [76] 17.5 17.6 17.7 17.8 17.9 18.0 18.1 18.2 18.3 18.4 18.5 18.6 18.7 18.8 18.9\n",
      " [91] 19.0 19.1 19.2 19.3 19.4 19.5 19.6 19.7 19.8 19.9 20.0\n"
     ]
    }
   ],
   "source": [
    "vec4 = seq(from=10, to=20, by=0.1)\n",
    "print(vec4)"
   ]
  },
  {
   "cell_type": "markdown",
   "id": "electoral-ecuador",
   "metadata": {},
   "source": [
    "How do you know which arguments to pass to a function, e.g. the `seq()` function? You can find that out in two ways.\n",
    "\n",
    "(a) After writing `seq(` you can press the TAB key to see which arguments are possible.\n",
    "(b) Type a question mark in front of the function name (`?seq`) to show help on that function."
   ]
  },
  {
   "cell_type": "code",
   "execution_count": null,
   "id": "greater-counter",
   "metadata": {},
   "outputs": [],
   "source": [
    "?seq"
   ]
  },
  {
   "cell_type": "markdown",
   "id": "exotic-shape",
   "metadata": {},
   "source": [
    "<span style=\"color: red;\">Task: </span> Use the `seq()` function to create a sequence from 0 to 100 that has 7 elements."
   ]
  },
  {
   "cell_type": "code",
   "execution_count": 28,
   "id": "functional-shopping",
   "metadata": {},
   "outputs": [
    {
     "data": {
      "text/html": [
       "<ol class=list-inline>\n",
       "\t<li>0</li>\n",
       "\t<li>16.6666666666667</li>\n",
       "\t<li>33.3333333333333</li>\n",
       "\t<li>50</li>\n",
       "\t<li>66.6666666666667</li>\n",
       "\t<li>83.3333333333333</li>\n",
       "\t<li>100</li>\n",
       "</ol>\n"
      ],
      "text/latex": [
       "\\begin{enumerate*}\n",
       "\\item 0\n",
       "\\item 16.6666666666667\n",
       "\\item 33.3333333333333\n",
       "\\item 50\n",
       "\\item 66.6666666666667\n",
       "\\item 83.3333333333333\n",
       "\\item 100\n",
       "\\end{enumerate*}\n"
      ],
      "text/markdown": [
       "1. 0\n",
       "2. 16.6666666666667\n",
       "3. 33.3333333333333\n",
       "4. 50\n",
       "5. 66.6666666666667\n",
       "6. 83.3333333333333\n",
       "7. 100\n",
       "\n",
       "\n"
      ],
      "text/plain": [
       "[1]   0.00000  16.66667  33.33333  50.00000  66.66667  83.33333 100.00000"
      ]
     },
     "metadata": {},
     "output_type": "display_data"
    }
   ],
   "source": [
    "seq(from = 0, to =100, by= (100/6))"
   ]
  },
  {
   "cell_type": "markdown",
   "id": "optical-format",
   "metadata": {},
   "source": [
    "<span style=\"color: red;\">Task: </span> Create a vector that contains the letters \n",
    "\n",
    "\"a\", \"b\", \"c\", \"d\". \n",
    "\n",
    "Use the `rep()` function to transform it into \n",
    "\n",
    "\"a\", \"a\", \"b\", \"b\", \"c\", \"c\", \"d\", \"d\"."
   ]
  },
  {
   "cell_type": "code",
   "execution_count": 40,
   "id": "dressed-chapel",
   "metadata": {},
   "outputs": [
    {
     "data": {
      "text/html": [
       "<ol class=list-inline>\n",
       "\t<li>'a'</li>\n",
       "\t<li>'b'</li>\n",
       "\t<li>'c'</li>\n",
       "\t<li>'d'</li>\n",
       "</ol>\n"
      ],
      "text/latex": [
       "\\begin{enumerate*}\n",
       "\\item 'a'\n",
       "\\item 'b'\n",
       "\\item 'c'\n",
       "\\item 'd'\n",
       "\\end{enumerate*}\n"
      ],
      "text/markdown": [
       "1. 'a'\n",
       "2. 'b'\n",
       "3. 'c'\n",
       "4. 'd'\n",
       "\n",
       "\n"
      ],
      "text/plain": [
       "[1] \"a\" \"b\" \"c\" \"d\""
      ]
     },
     "metadata": {},
     "output_type": "display_data"
    },
    {
     "data": {
      "text/html": [
       "<ol class=list-inline>\n",
       "\t<li>'a'</li>\n",
       "\t<li>'a'</li>\n",
       "\t<li>'b'</li>\n",
       "\t<li>'b'</li>\n",
       "\t<li>'c'</li>\n",
       "\t<li>'c'</li>\n",
       "\t<li>'d'</li>\n",
       "\t<li>'d'</li>\n",
       "</ol>\n"
      ],
      "text/latex": [
       "\\begin{enumerate*}\n",
       "\\item 'a'\n",
       "\\item 'a'\n",
       "\\item 'b'\n",
       "\\item 'b'\n",
       "\\item 'c'\n",
       "\\item 'c'\n",
       "\\item 'd'\n",
       "\\item 'd'\n",
       "\\end{enumerate*}\n"
      ],
      "text/markdown": [
       "1. 'a'\n",
       "2. 'a'\n",
       "3. 'b'\n",
       "4. 'b'\n",
       "5. 'c'\n",
       "6. 'c'\n",
       "7. 'd'\n",
       "8. 'd'\n",
       "\n",
       "\n"
      ],
      "text/plain": [
       "[1] \"a\" \"a\" \"b\" \"b\" \"c\" \"c\" \"d\" \"d\""
      ]
     },
     "metadata": {},
     "output_type": "display_data"
    }
   ],
   "source": [
    "letters = c(\"a\", \"b\", \"c\", \"d\")\n",
    "letters\n",
    "rep(letters,each=2)"
   ]
  },
  {
   "cell_type": "markdown",
   "id": "italian-gilbert",
   "metadata": {},
   "source": [
    "We can access elements of vectors using square brackets."
   ]
  },
  {
   "cell_type": "code",
   "execution_count": 41,
   "id": "saved-worcester",
   "metadata": {},
   "outputs": [
    {
     "data": {
      "text/html": [
       "2"
      ],
      "text/latex": [
       "2"
      ],
      "text/markdown": [
       "2"
      ],
      "text/plain": [
       "[1] 2"
      ]
     },
     "metadata": {},
     "output_type": "display_data"
    }
   ],
   "source": [
    "mynumbers = c(1,4,1,8,2,5,7,1,4)\n",
    "mynumbers[5]"
   ]
  },
  {
   "cell_type": "markdown",
   "id": "bored-scroll",
   "metadata": {},
   "source": [
    "We can not only use one index but also a vector of indexes."
   ]
  },
  {
   "cell_type": "code",
   "execution_count": 42,
   "id": "swiss-mediterranean",
   "metadata": {},
   "outputs": [
    {
     "data": {
      "text/html": [
       "<ol class=list-inline>\n",
       "\t<li>1</li>\n",
       "\t<li>8</li>\n",
       "\t<li>2</li>\n",
       "</ol>\n"
      ],
      "text/latex": [
       "\\begin{enumerate*}\n",
       "\\item 1\n",
       "\\item 8\n",
       "\\item 2\n",
       "\\end{enumerate*}\n"
      ],
      "text/markdown": [
       "1. 1\n",
       "2. 8\n",
       "3. 2\n",
       "\n",
       "\n"
      ],
      "text/plain": [
       "[1] 1 8 2"
      ]
     },
     "metadata": {},
     "output_type": "display_data"
    }
   ],
   "source": [
    "mynumbers[c(3,4,5)]"
   ]
  },
  {
   "cell_type": "markdown",
   "id": "sound-grounds",
   "metadata": {},
   "source": [
    "This makes sense for showing the first few elements, or for selecting elements that fulfill a specific condition."
   ]
  },
  {
   "cell_type": "code",
   "execution_count": 43,
   "id": "imposed-installation",
   "metadata": {},
   "outputs": [
    {
     "data": {
      "text/html": [
       "<ol class=list-inline>\n",
       "\t<li>1</li>\n",
       "\t<li>4</li>\n",
       "\t<li>1</li>\n",
       "\t<li>8</li>\n",
       "\t<li>2</li>\n",
       "</ol>\n"
      ],
      "text/latex": [
       "\\begin{enumerate*}\n",
       "\\item 1\n",
       "\\item 4\n",
       "\\item 1\n",
       "\\item 8\n",
       "\\item 2\n",
       "\\end{enumerate*}\n"
      ],
      "text/markdown": [
       "1. 1\n",
       "2. 4\n",
       "3. 1\n",
       "4. 8\n",
       "5. 2\n",
       "\n",
       "\n"
      ],
      "text/plain": [
       "[1] 1 4 1 8 2"
      ]
     },
     "metadata": {},
     "output_type": "display_data"
    }
   ],
   "source": [
    "mynumbers[1:5]"
   ]
  },
  {
   "cell_type": "code",
   "execution_count": 44,
   "id": "linear-module",
   "metadata": {},
   "outputs": [
    {
     "data": {
      "text/html": [
       "<ol class=list-inline>\n",
       "\t<li>8</li>\n",
       "\t<li>7</li>\n",
       "</ol>\n"
      ],
      "text/latex": [
       "\\begin{enumerate*}\n",
       "\\item 8\n",
       "\\item 7\n",
       "\\end{enumerate*}\n"
      ],
      "text/markdown": [
       "1. 8\n",
       "2. 7\n",
       "\n",
       "\n"
      ],
      "text/plain": [
       "[1] 8 7"
      ]
     },
     "metadata": {},
     "output_type": "display_data"
    }
   ],
   "source": [
    "mynumbers[mynumbers>5]"
   ]
  },
  {
   "cell_type": "markdown",
   "id": "fiscal-seattle",
   "metadata": {},
   "source": [
    "We can calculate with vectors as we would do with numbers. The operations will be performed element by element. (This is in contrast to Matlab!)"
   ]
  },
  {
   "cell_type": "code",
   "execution_count": 45,
   "id": "academic-reaction",
   "metadata": {},
   "outputs": [
    {
     "data": {
      "text/html": [
       "<ol class=list-inline>\n",
       "\t<li>101</li>\n",
       "\t<li>104</li>\n",
       "\t<li>101</li>\n",
       "\t<li>108</li>\n",
       "\t<li>102</li>\n",
       "\t<li>105</li>\n",
       "\t<li>107</li>\n",
       "\t<li>101</li>\n",
       "\t<li>104</li>\n",
       "</ol>\n"
      ],
      "text/latex": [
       "\\begin{enumerate*}\n",
       "\\item 101\n",
       "\\item 104\n",
       "\\item 101\n",
       "\\item 108\n",
       "\\item 102\n",
       "\\item 105\n",
       "\\item 107\n",
       "\\item 101\n",
       "\\item 104\n",
       "\\end{enumerate*}\n"
      ],
      "text/markdown": [
       "1. 101\n",
       "2. 104\n",
       "3. 101\n",
       "4. 108\n",
       "5. 102\n",
       "6. 105\n",
       "7. 107\n",
       "8. 101\n",
       "9. 104\n",
       "\n",
       "\n"
      ],
      "text/plain": [
       "[1] 101 104 101 108 102 105 107 101 104"
      ]
     },
     "metadata": {},
     "output_type": "display_data"
    }
   ],
   "source": [
    "mynumbers+100"
   ]
  },
  {
   "cell_type": "code",
   "execution_count": 46,
   "id": "located-stranger",
   "metadata": {},
   "outputs": [
    {
     "data": {
      "text/html": [
       "<ol class=list-inline>\n",
       "\t<li>1</li>\n",
       "\t<li>64</li>\n",
       "\t<li>1</li>\n",
       "\t<li>512</li>\n",
       "\t<li>8</li>\n",
       "\t<li>125</li>\n",
       "\t<li>343</li>\n",
       "\t<li>1</li>\n",
       "\t<li>64</li>\n",
       "</ol>\n"
      ],
      "text/latex": [
       "\\begin{enumerate*}\n",
       "\\item 1\n",
       "\\item 64\n",
       "\\item 1\n",
       "\\item 512\n",
       "\\item 8\n",
       "\\item 125\n",
       "\\item 343\n",
       "\\item 1\n",
       "\\item 64\n",
       "\\end{enumerate*}\n"
      ],
      "text/markdown": [
       "1. 1\n",
       "2. 64\n",
       "3. 1\n",
       "4. 512\n",
       "5. 8\n",
       "6. 125\n",
       "7. 343\n",
       "8. 1\n",
       "9. 64\n",
       "\n",
       "\n"
      ],
      "text/plain": [
       "[1]   1  64   1 512   8 125 343   1  64"
      ]
     },
     "metadata": {},
     "output_type": "display_data"
    }
   ],
   "source": [
    "mynumbers^3"
   ]
  },
  {
   "cell_type": "code",
   "execution_count": 47,
   "id": "stainless-stock",
   "metadata": {},
   "outputs": [
    {
     "data": {
      "text/html": [
       "<ol class=list-inline>\n",
       "\t<li>1</li>\n",
       "\t<li>2</li>\n",
       "\t<li>1</li>\n",
       "\t<li>2.82842712474619</li>\n",
       "\t<li>1.4142135623731</li>\n",
       "\t<li>2.23606797749979</li>\n",
       "\t<li>2.64575131106459</li>\n",
       "\t<li>1</li>\n",
       "\t<li>2</li>\n",
       "</ol>\n"
      ],
      "text/latex": [
       "\\begin{enumerate*}\n",
       "\\item 1\n",
       "\\item 2\n",
       "\\item 1\n",
       "\\item 2.82842712474619\n",
       "\\item 1.4142135623731\n",
       "\\item 2.23606797749979\n",
       "\\item 2.64575131106459\n",
       "\\item 1\n",
       "\\item 2\n",
       "\\end{enumerate*}\n"
      ],
      "text/markdown": [
       "1. 1\n",
       "2. 2\n",
       "3. 1\n",
       "4. 2.82842712474619\n",
       "5. 1.4142135623731\n",
       "6. 2.23606797749979\n",
       "7. 2.64575131106459\n",
       "8. 1\n",
       "9. 2\n",
       "\n",
       "\n"
      ],
      "text/plain": [
       "[1] 1.000000 2.000000 1.000000 2.828427 1.414214 2.236068 2.645751 1.000000\n",
       "[9] 2.000000"
      ]
     },
     "metadata": {},
     "output_type": "display_data"
    }
   ],
   "source": [
    "sqrt(mynumbers)"
   ]
  },
  {
   "cell_type": "markdown",
   "id": "cathedral-instrumentation",
   "metadata": {},
   "source": [
    "We can also use two vectors of the same length for calculations."
   ]
  },
  {
   "cell_type": "code",
   "execution_count": 48,
   "id": "adverse-software",
   "metadata": {},
   "outputs": [
    {
     "data": {
      "text/html": [
       "<ol class=list-inline>\n",
       "\t<li>0</li>\n",
       "\t<li>0</li>\n",
       "\t<li>1</li>\n",
       "\t<li>8</li>\n",
       "\t<li>0</li>\n",
       "\t<li>0</li>\n",
       "\t<li>7</li>\n",
       "\t<li>1</li>\n",
       "\t<li>0</li>\n",
       "</ol>\n"
      ],
      "text/latex": [
       "\\begin{enumerate*}\n",
       "\\item 0\n",
       "\\item 0\n",
       "\\item 1\n",
       "\\item 8\n",
       "\\item 0\n",
       "\\item 0\n",
       "\\item 7\n",
       "\\item 1\n",
       "\\item 0\n",
       "\\end{enumerate*}\n"
      ],
      "text/markdown": [
       "1. 0\n",
       "2. 0\n",
       "3. 1\n",
       "4. 8\n",
       "5. 0\n",
       "6. 0\n",
       "7. 7\n",
       "8. 1\n",
       "9. 0\n",
       "\n",
       "\n"
      ],
      "text/plain": [
       "[1] 0 0 1 8 0 0 7 1 0"
      ]
     },
     "metadata": {},
     "output_type": "display_data"
    }
   ],
   "source": [
    "nine_numbers = c(0,0,1,1,0,0,1,1,0)\n",
    "mynumbers * nine_numbers"
   ]
  },
  {
   "cell_type": "markdown",
   "id": "raised-sailing",
   "metadata": {},
   "source": [
    "But adding different length also works - which **can make life very difficult!**"
   ]
  },
  {
   "cell_type": "code",
   "execution_count": 49,
   "id": "dangerous-federal",
   "metadata": {},
   "outputs": [
    {
     "data": {
      "text/html": [
       "<ol class=list-inline>\n",
       "\t<li>11</li>\n",
       "\t<li>104</li>\n",
       "\t<li>1001</li>\n",
       "\t<li>18</li>\n",
       "\t<li>102</li>\n",
       "\t<li>1005</li>\n",
       "\t<li>17</li>\n",
       "\t<li>101</li>\n",
       "\t<li>1004</li>\n",
       "</ol>\n"
      ],
      "text/latex": [
       "\\begin{enumerate*}\n",
       "\\item 11\n",
       "\\item 104\n",
       "\\item 1001\n",
       "\\item 18\n",
       "\\item 102\n",
       "\\item 1005\n",
       "\\item 17\n",
       "\\item 101\n",
       "\\item 1004\n",
       "\\end{enumerate*}\n"
      ],
      "text/markdown": [
       "1. 11\n",
       "2. 104\n",
       "3. 1001\n",
       "4. 18\n",
       "5. 102\n",
       "6. 1005\n",
       "7. 17\n",
       "8. 101\n",
       "9. 1004\n",
       "\n",
       "\n"
      ],
      "text/plain": [
       "[1]   11  104 1001   18  102 1005   17  101 1004"
      ]
     },
     "metadata": {},
     "output_type": "display_data"
    }
   ],
   "source": [
    "three_numbers = c(10,100,1000)\n",
    "mynumbers + three_numbers"
   ]
  },
  {
   "cell_type": "markdown",
   "id": "assumed-flour",
   "metadata": {},
   "source": [
    "**R just repeats the shorter vector to get the required length!** (You may not like that.) At least it gives a warning if it really doesn't match."
   ]
  },
  {
   "cell_type": "code",
   "execution_count": 50,
   "id": "disabled-delight",
   "metadata": {},
   "outputs": [
    {
     "name": "stderr",
     "output_type": "stream",
     "text": [
      "Warning message in mynumbers + two_numbers:\n",
      "\"longer object length is not a multiple of shorter object length\""
     ]
    },
    {
     "data": {
      "text/html": [
       "<ol class=list-inline>\n",
       "\t<li>101</li>\n",
       "\t<li>204</li>\n",
       "\t<li>101</li>\n",
       "\t<li>208</li>\n",
       "\t<li>102</li>\n",
       "\t<li>205</li>\n",
       "\t<li>107</li>\n",
       "\t<li>201</li>\n",
       "\t<li>104</li>\n",
       "</ol>\n"
      ],
      "text/latex": [
       "\\begin{enumerate*}\n",
       "\\item 101\n",
       "\\item 204\n",
       "\\item 101\n",
       "\\item 208\n",
       "\\item 102\n",
       "\\item 205\n",
       "\\item 107\n",
       "\\item 201\n",
       "\\item 104\n",
       "\\end{enumerate*}\n"
      ],
      "text/markdown": [
       "1. 101\n",
       "2. 204\n",
       "3. 101\n",
       "4. 208\n",
       "5. 102\n",
       "6. 205\n",
       "7. 107\n",
       "8. 201\n",
       "9. 104\n",
       "\n",
       "\n"
      ],
      "text/plain": [
       "[1] 101 204 101 208 102 205 107 201 104"
      ]
     },
     "metadata": {},
     "output_type": "display_data"
    }
   ],
   "source": [
    "two_numbers = c(100,200)\n",
    "mynumbers + two_numbers"
   ]
  },
  {
   "cell_type": "markdown",
   "id": "behind-intake",
   "metadata": {},
   "source": [
    "<span style=\"color: red;\">Task: </span> Create a time axis `t` as a vector from 0 to 10 with a time step of 0.1. Then create a time series `myseries` using the `sin()` function. Use the command `plot(t,myseries)` to plot it.\n",
    "\n",
    "<span style=\"color: red;\">Bonus Task: </span> Create a series that has a period length of 5, so we have exactly two periods."
   ]
  },
  {
   "cell_type": "code",
   "execution_count": 60,
   "id": "alternate-stocks",
   "metadata": {},
   "outputs": [
    {
     "data": {
      "text/html": [
       "<ol class=list-inline>\n",
       "\t<li>0</li>\n",
       "\t<li>0.1</li>\n",
       "\t<li>0.2</li>\n",
       "\t<li>0.3</li>\n",
       "\t<li>0.4</li>\n",
       "\t<li>0.5</li>\n",
       "\t<li>0.6</li>\n",
       "\t<li>0.7</li>\n",
       "\t<li>0.8</li>\n",
       "\t<li>0.9</li>\n",
       "\t<li>1</li>\n",
       "\t<li>1.1</li>\n",
       "\t<li>1.2</li>\n",
       "\t<li>1.3</li>\n",
       "\t<li>1.4</li>\n",
       "\t<li>1.5</li>\n",
       "\t<li>1.6</li>\n",
       "\t<li>1.7</li>\n",
       "\t<li>1.8</li>\n",
       "\t<li>1.9</li>\n",
       "\t<li>2</li>\n",
       "\t<li>2.1</li>\n",
       "\t<li>2.2</li>\n",
       "\t<li>2.3</li>\n",
       "\t<li>2.4</li>\n",
       "\t<li>2.5</li>\n",
       "\t<li>2.6</li>\n",
       "\t<li>2.7</li>\n",
       "\t<li>2.8</li>\n",
       "\t<li>2.9</li>\n",
       "\t<li>3</li>\n",
       "\t<li>3.1</li>\n",
       "\t<li>3.2</li>\n",
       "\t<li>3.3</li>\n",
       "\t<li>3.4</li>\n",
       "\t<li>3.5</li>\n",
       "\t<li>3.6</li>\n",
       "\t<li>3.7</li>\n",
       "\t<li>3.8</li>\n",
       "\t<li>3.9</li>\n",
       "\t<li>4</li>\n",
       "\t<li>4.1</li>\n",
       "\t<li>4.2</li>\n",
       "\t<li>4.3</li>\n",
       "\t<li>4.4</li>\n",
       "\t<li>4.5</li>\n",
       "\t<li>4.6</li>\n",
       "\t<li>4.7</li>\n",
       "\t<li>4.8</li>\n",
       "\t<li>4.9</li>\n",
       "\t<li>5</li>\n",
       "\t<li>5.1</li>\n",
       "\t<li>5.2</li>\n",
       "\t<li>5.3</li>\n",
       "\t<li>5.4</li>\n",
       "\t<li>5.5</li>\n",
       "\t<li>5.6</li>\n",
       "\t<li>5.7</li>\n",
       "\t<li>5.8</li>\n",
       "\t<li>5.9</li>\n",
       "\t<li>6</li>\n",
       "\t<li>6.1</li>\n",
       "\t<li>6.2</li>\n",
       "\t<li>6.3</li>\n",
       "\t<li>6.4</li>\n",
       "\t<li>6.5</li>\n",
       "\t<li>6.6</li>\n",
       "\t<li>6.7</li>\n",
       "\t<li>6.8</li>\n",
       "\t<li>6.9</li>\n",
       "\t<li>7</li>\n",
       "\t<li>7.1</li>\n",
       "\t<li>7.2</li>\n",
       "\t<li>7.3</li>\n",
       "\t<li>7.4</li>\n",
       "\t<li>7.5</li>\n",
       "\t<li>7.6</li>\n",
       "\t<li>7.7</li>\n",
       "\t<li>7.8</li>\n",
       "\t<li>7.9</li>\n",
       "\t<li>8</li>\n",
       "\t<li>8.1</li>\n",
       "\t<li>8.2</li>\n",
       "\t<li>8.3</li>\n",
       "\t<li>8.4</li>\n",
       "\t<li>8.5</li>\n",
       "\t<li>8.6</li>\n",
       "\t<li>8.7</li>\n",
       "\t<li>8.8</li>\n",
       "\t<li>8.9</li>\n",
       "\t<li>9</li>\n",
       "\t<li>9.1</li>\n",
       "\t<li>9.2</li>\n",
       "\t<li>9.3</li>\n",
       "\t<li>9.4</li>\n",
       "\t<li>9.5</li>\n",
       "\t<li>9.6</li>\n",
       "\t<li>9.7</li>\n",
       "\t<li>9.8</li>\n",
       "\t<li>9.9</li>\n",
       "\t<li>10</li>\n",
       "</ol>\n"
      ],
      "text/latex": [
       "\\begin{enumerate*}\n",
       "\\item 0\n",
       "\\item 0.1\n",
       "\\item 0.2\n",
       "\\item 0.3\n",
       "\\item 0.4\n",
       "\\item 0.5\n",
       "\\item 0.6\n",
       "\\item 0.7\n",
       "\\item 0.8\n",
       "\\item 0.9\n",
       "\\item 1\n",
       "\\item 1.1\n",
       "\\item 1.2\n",
       "\\item 1.3\n",
       "\\item 1.4\n",
       "\\item 1.5\n",
       "\\item 1.6\n",
       "\\item 1.7\n",
       "\\item 1.8\n",
       "\\item 1.9\n",
       "\\item 2\n",
       "\\item 2.1\n",
       "\\item 2.2\n",
       "\\item 2.3\n",
       "\\item 2.4\n",
       "\\item 2.5\n",
       "\\item 2.6\n",
       "\\item 2.7\n",
       "\\item 2.8\n",
       "\\item 2.9\n",
       "\\item 3\n",
       "\\item 3.1\n",
       "\\item 3.2\n",
       "\\item 3.3\n",
       "\\item 3.4\n",
       "\\item 3.5\n",
       "\\item 3.6\n",
       "\\item 3.7\n",
       "\\item 3.8\n",
       "\\item 3.9\n",
       "\\item 4\n",
       "\\item 4.1\n",
       "\\item 4.2\n",
       "\\item 4.3\n",
       "\\item 4.4\n",
       "\\item 4.5\n",
       "\\item 4.6\n",
       "\\item 4.7\n",
       "\\item 4.8\n",
       "\\item 4.9\n",
       "\\item 5\n",
       "\\item 5.1\n",
       "\\item 5.2\n",
       "\\item 5.3\n",
       "\\item 5.4\n",
       "\\item 5.5\n",
       "\\item 5.6\n",
       "\\item 5.7\n",
       "\\item 5.8\n",
       "\\item 5.9\n",
       "\\item 6\n",
       "\\item 6.1\n",
       "\\item 6.2\n",
       "\\item 6.3\n",
       "\\item 6.4\n",
       "\\item 6.5\n",
       "\\item 6.6\n",
       "\\item 6.7\n",
       "\\item 6.8\n",
       "\\item 6.9\n",
       "\\item 7\n",
       "\\item 7.1\n",
       "\\item 7.2\n",
       "\\item 7.3\n",
       "\\item 7.4\n",
       "\\item 7.5\n",
       "\\item 7.6\n",
       "\\item 7.7\n",
       "\\item 7.8\n",
       "\\item 7.9\n",
       "\\item 8\n",
       "\\item 8.1\n",
       "\\item 8.2\n",
       "\\item 8.3\n",
       "\\item 8.4\n",
       "\\item 8.5\n",
       "\\item 8.6\n",
       "\\item 8.7\n",
       "\\item 8.8\n",
       "\\item 8.9\n",
       "\\item 9\n",
       "\\item 9.1\n",
       "\\item 9.2\n",
       "\\item 9.3\n",
       "\\item 9.4\n",
       "\\item 9.5\n",
       "\\item 9.6\n",
       "\\item 9.7\n",
       "\\item 9.8\n",
       "\\item 9.9\n",
       "\\item 10\n",
       "\\end{enumerate*}\n"
      ],
      "text/markdown": [
       "1. 0\n",
       "2. 0.1\n",
       "3. 0.2\n",
       "4. 0.3\n",
       "5. 0.4\n",
       "6. 0.5\n",
       "7. 0.6\n",
       "8. 0.7\n",
       "9. 0.8\n",
       "10. 0.9\n",
       "11. 1\n",
       "12. 1.1\n",
       "13. 1.2\n",
       "14. 1.3\n",
       "15. 1.4\n",
       "16. 1.5\n",
       "17. 1.6\n",
       "18. 1.7\n",
       "19. 1.8\n",
       "20. 1.9\n",
       "21. 2\n",
       "22. 2.1\n",
       "23. 2.2\n",
       "24. 2.3\n",
       "25. 2.4\n",
       "26. 2.5\n",
       "27. 2.6\n",
       "28. 2.7\n",
       "29. 2.8\n",
       "30. 2.9\n",
       "31. 3\n",
       "32. 3.1\n",
       "33. 3.2\n",
       "34. 3.3\n",
       "35. 3.4\n",
       "36. 3.5\n",
       "37. 3.6\n",
       "38. 3.7\n",
       "39. 3.8\n",
       "40. 3.9\n",
       "41. 4\n",
       "42. 4.1\n",
       "43. 4.2\n",
       "44. 4.3\n",
       "45. 4.4\n",
       "46. 4.5\n",
       "47. 4.6\n",
       "48. 4.7\n",
       "49. 4.8\n",
       "50. 4.9\n",
       "51. 5\n",
       "52. 5.1\n",
       "53. 5.2\n",
       "54. 5.3\n",
       "55. 5.4\n",
       "56. 5.5\n",
       "57. 5.6\n",
       "58. 5.7\n",
       "59. 5.8\n",
       "60. 5.9\n",
       "61. 6\n",
       "62. 6.1\n",
       "63. 6.2\n",
       "64. 6.3\n",
       "65. 6.4\n",
       "66. 6.5\n",
       "67. 6.6\n",
       "68. 6.7\n",
       "69. 6.8\n",
       "70. 6.9\n",
       "71. 7\n",
       "72. 7.1\n",
       "73. 7.2\n",
       "74. 7.3\n",
       "75. 7.4\n",
       "76. 7.5\n",
       "77. 7.6\n",
       "78. 7.7\n",
       "79. 7.8\n",
       "80. 7.9\n",
       "81. 8\n",
       "82. 8.1\n",
       "83. 8.2\n",
       "84. 8.3\n",
       "85. 8.4\n",
       "86. 8.5\n",
       "87. 8.6\n",
       "88. 8.7\n",
       "89. 8.8\n",
       "90. 8.9\n",
       "91. 9\n",
       "92. 9.1\n",
       "93. 9.2\n",
       "94. 9.3\n",
       "95. 9.4\n",
       "96. 9.5\n",
       "97. 9.6\n",
       "98. 9.7\n",
       "99. 9.8\n",
       "100. 9.9\n",
       "101. 10\n",
       "\n",
       "\n"
      ],
      "text/plain": [
       "  [1]  0.0  0.1  0.2  0.3  0.4  0.5  0.6  0.7  0.8  0.9  1.0  1.1  1.2  1.3  1.4\n",
       " [16]  1.5  1.6  1.7  1.8  1.9  2.0  2.1  2.2  2.3  2.4  2.5  2.6  2.7  2.8  2.9\n",
       " [31]  3.0  3.1  3.2  3.3  3.4  3.5  3.6  3.7  3.8  3.9  4.0  4.1  4.2  4.3  4.4\n",
       " [46]  4.5  4.6  4.7  4.8  4.9  5.0  5.1  5.2  5.3  5.4  5.5  5.6  5.7  5.8  5.9\n",
       " [61]  6.0  6.1  6.2  6.3  6.4  6.5  6.6  6.7  6.8  6.9  7.0  7.1  7.2  7.3  7.4\n",
       " [76]  7.5  7.6  7.7  7.8  7.9  8.0  8.1  8.2  8.3  8.4  8.5  8.6  8.7  8.8  8.9\n",
       " [91]  9.0  9.1  9.2  9.3  9.4  9.5  9.6  9.7  9.8  9.9 10.0"
      ]
     },
     "metadata": {},
     "output_type": "display_data"
    },
    {
     "data": {
      "text/html": [
       "<ol class=list-inline>\n",
       "\t<li>0</li>\n",
       "\t<li>0.0998334166468282</li>\n",
       "\t<li>0.198669330795061</li>\n",
       "\t<li>0.29552020666134</li>\n",
       "\t<li>0.389418342308651</li>\n",
       "\t<li>0.479425538604203</li>\n",
       "\t<li>0.564642473395035</li>\n",
       "\t<li>0.644217687237691</li>\n",
       "\t<li>0.717356090899523</li>\n",
       "\t<li>0.783326909627483</li>\n",
       "\t<li>0.841470984807897</li>\n",
       "\t<li>0.891207360061435</li>\n",
       "\t<li>0.932039085967226</li>\n",
       "\t<li>0.963558185417193</li>\n",
       "\t<li>0.98544972998846</li>\n",
       "\t<li>0.997494986604054</li>\n",
       "\t<li>0.999573603041505</li>\n",
       "\t<li>0.991664810452469</li>\n",
       "\t<li>0.973847630878195</li>\n",
       "\t<li>0.946300087687414</li>\n",
       "\t<li>0.909297426825682</li>\n",
       "\t<li>0.863209366648874</li>\n",
       "\t<li>0.80849640381959</li>\n",
       "\t<li>0.74570521217672</li>\n",
       "\t<li>0.675463180551151</li>\n",
       "\t<li>0.598472144103957</li>\n",
       "\t<li>0.515501371821464</li>\n",
       "\t<li>0.42737988023383</li>\n",
       "\t<li>0.334988150155905</li>\n",
       "\t<li>0.239249329213982</li>\n",
       "\t<li>0.141120008059867</li>\n",
       "\t<li>0.0415806624332905</li>\n",
       "\t<li>-0.0583741434275801</li>\n",
       "\t<li>-0.157745694143249</li>\n",
       "\t<li>-0.255541102026832</li>\n",
       "\t<li>-0.35078322768962</li>\n",
       "\t<li>-0.442520443294852</li>\n",
       "\t<li>-0.529836140908493</li>\n",
       "\t<li>-0.611857890942719</li>\n",
       "\t<li>-0.687766159183974</li>\n",
       "\t<li>-0.756802495307928</li>\n",
       "\t<li>-0.818277111064411</li>\n",
       "\t<li>-0.871575772413588</li>\n",
       "\t<li>-0.916165936749455</li>\n",
       "\t<li>-0.951602073889516</li>\n",
       "\t<li>-0.977530117665097</li>\n",
       "\t<li>-0.993691003633465</li>\n",
       "\t<li>-0.999923257564101</li>\n",
       "\t<li>-0.996164608835841</li>\n",
       "\t<li>-0.982452612624332</li>\n",
       "\t<li>-0.958924274663138</li>\n",
       "\t<li>-0.925814682327732</li>\n",
       "\t<li>-0.883454655720153</li>\n",
       "\t<li>-0.832267442223901</li>\n",
       "\t<li>-0.772764487555987</li>\n",
       "\t<li>-0.705540325570392</li>\n",
       "\t<li>-0.631266637872321</li>\n",
       "\t<li>-0.550685542597638</li>\n",
       "\t<li>-0.464602179413757</li>\n",
       "\t<li>-0.373876664830236</li>\n",
       "\t<li>-0.279415498198926</li>\n",
       "\t<li>-0.182162504272095</li>\n",
       "\t<li>-0.0830894028174964</li>\n",
       "\t<li>0.0168139004843506</li>\n",
       "\t<li>0.116549204850494</li>\n",
       "\t<li>0.215119988087816</li>\n",
       "\t<li>0.311541363513379</li>\n",
       "\t<li>0.404849920616598</li>\n",
       "\t<li>0.494113351138609</li>\n",
       "\t<li>0.5784397643882</li>\n",
       "\t<li>0.656986598718789</li>\n",
       "\t<li>0.728969040125876</li>\n",
       "\t<li>0.793667863849153</li>\n",
       "\t<li>0.850436620628565</li>\n",
       "\t<li>0.898708095811627</li>\n",
       "\t<li>0.937999976774739</li>\n",
       "\t<li>0.967919672031487</li>\n",
       "\t<li>0.988168233877</li>\n",
       "\t<li>0.998543345374605</li>\n",
       "\t<li>0.998941341839772</li>\n",
       "\t<li>0.989358246623382</li>\n",
       "\t<li>0.969889810845086</li>\n",
       "\t<li>0.940730556679773</li>\n",
       "\t<li>0.902171833756293</li>\n",
       "\t<li>0.85459890808828</li>\n",
       "\t<li>0.79848711262349</li>\n",
       "\t<li>0.734397097874113</li>\n",
       "\t<li>0.662969230082182</li>\n",
       "\t<li>0.584917192891762</li>\n",
       "\t<li>0.501020856457885</li>\n",
       "\t<li>0.412118485241757</li>\n",
       "\t<li>0.319098362349352</li>\n",
       "\t<li>0.222889914100246</li>\n",
       "\t<li>0.124454423507062</li>\n",
       "\t<li>0.0247754254533578</li>\n",
       "\t<li>-0.0751511204618093</li>\n",
       "\t<li>-0.174326781222981</li>\n",
       "\t<li>-0.271760626410944</li>\n",
       "\t<li>-0.366479129251928</li>\n",
       "\t<li>-0.457535893775321</li>\n",
       "\t<li>-0.54402111088937</li>\n",
       "</ol>\n"
      ],
      "text/latex": [
       "\\begin{enumerate*}\n",
       "\\item 0\n",
       "\\item 0.0998334166468282\n",
       "\\item 0.198669330795061\n",
       "\\item 0.29552020666134\n",
       "\\item 0.389418342308651\n",
       "\\item 0.479425538604203\n",
       "\\item 0.564642473395035\n",
       "\\item 0.644217687237691\n",
       "\\item 0.717356090899523\n",
       "\\item 0.783326909627483\n",
       "\\item 0.841470984807897\n",
       "\\item 0.891207360061435\n",
       "\\item 0.932039085967226\n",
       "\\item 0.963558185417193\n",
       "\\item 0.98544972998846\n",
       "\\item 0.997494986604054\n",
       "\\item 0.999573603041505\n",
       "\\item 0.991664810452469\n",
       "\\item 0.973847630878195\n",
       "\\item 0.946300087687414\n",
       "\\item 0.909297426825682\n",
       "\\item 0.863209366648874\n",
       "\\item 0.80849640381959\n",
       "\\item 0.74570521217672\n",
       "\\item 0.675463180551151\n",
       "\\item 0.598472144103957\n",
       "\\item 0.515501371821464\n",
       "\\item 0.42737988023383\n",
       "\\item 0.334988150155905\n",
       "\\item 0.239249329213982\n",
       "\\item 0.141120008059867\n",
       "\\item 0.0415806624332905\n",
       "\\item -0.0583741434275801\n",
       "\\item -0.157745694143249\n",
       "\\item -0.255541102026832\n",
       "\\item -0.35078322768962\n",
       "\\item -0.442520443294852\n",
       "\\item -0.529836140908493\n",
       "\\item -0.611857890942719\n",
       "\\item -0.687766159183974\n",
       "\\item -0.756802495307928\n",
       "\\item -0.818277111064411\n",
       "\\item -0.871575772413588\n",
       "\\item -0.916165936749455\n",
       "\\item -0.951602073889516\n",
       "\\item -0.977530117665097\n",
       "\\item -0.993691003633465\n",
       "\\item -0.999923257564101\n",
       "\\item -0.996164608835841\n",
       "\\item -0.982452612624332\n",
       "\\item -0.958924274663138\n",
       "\\item -0.925814682327732\n",
       "\\item -0.883454655720153\n",
       "\\item -0.832267442223901\n",
       "\\item -0.772764487555987\n",
       "\\item -0.705540325570392\n",
       "\\item -0.631266637872321\n",
       "\\item -0.550685542597638\n",
       "\\item -0.464602179413757\n",
       "\\item -0.373876664830236\n",
       "\\item -0.279415498198926\n",
       "\\item -0.182162504272095\n",
       "\\item -0.0830894028174964\n",
       "\\item 0.0168139004843506\n",
       "\\item 0.116549204850494\n",
       "\\item 0.215119988087816\n",
       "\\item 0.311541363513379\n",
       "\\item 0.404849920616598\n",
       "\\item 0.494113351138609\n",
       "\\item 0.5784397643882\n",
       "\\item 0.656986598718789\n",
       "\\item 0.728969040125876\n",
       "\\item 0.793667863849153\n",
       "\\item 0.850436620628565\n",
       "\\item 0.898708095811627\n",
       "\\item 0.937999976774739\n",
       "\\item 0.967919672031487\n",
       "\\item 0.988168233877\n",
       "\\item 0.998543345374605\n",
       "\\item 0.998941341839772\n",
       "\\item 0.989358246623382\n",
       "\\item 0.969889810845086\n",
       "\\item 0.940730556679773\n",
       "\\item 0.902171833756293\n",
       "\\item 0.85459890808828\n",
       "\\item 0.79848711262349\n",
       "\\item 0.734397097874113\n",
       "\\item 0.662969230082182\n",
       "\\item 0.584917192891762\n",
       "\\item 0.501020856457885\n",
       "\\item 0.412118485241757\n",
       "\\item 0.319098362349352\n",
       "\\item 0.222889914100246\n",
       "\\item 0.124454423507062\n",
       "\\item 0.0247754254533578\n",
       "\\item -0.0751511204618093\n",
       "\\item -0.174326781222981\n",
       "\\item -0.271760626410944\n",
       "\\item -0.366479129251928\n",
       "\\item -0.457535893775321\n",
       "\\item -0.54402111088937\n",
       "\\end{enumerate*}\n"
      ],
      "text/markdown": [
       "1. 0\n",
       "2. 0.0998334166468282\n",
       "3. 0.198669330795061\n",
       "4. 0.29552020666134\n",
       "5. 0.389418342308651\n",
       "6. 0.479425538604203\n",
       "7. 0.564642473395035\n",
       "8. 0.644217687237691\n",
       "9. 0.717356090899523\n",
       "10. 0.783326909627483\n",
       "11. 0.841470984807897\n",
       "12. 0.891207360061435\n",
       "13. 0.932039085967226\n",
       "14. 0.963558185417193\n",
       "15. 0.98544972998846\n",
       "16. 0.997494986604054\n",
       "17. 0.999573603041505\n",
       "18. 0.991664810452469\n",
       "19. 0.973847630878195\n",
       "20. 0.946300087687414\n",
       "21. 0.909297426825682\n",
       "22. 0.863209366648874\n",
       "23. 0.80849640381959\n",
       "24. 0.74570521217672\n",
       "25. 0.675463180551151\n",
       "26. 0.598472144103957\n",
       "27. 0.515501371821464\n",
       "28. 0.42737988023383\n",
       "29. 0.334988150155905\n",
       "30. 0.239249329213982\n",
       "31. 0.141120008059867\n",
       "32. 0.0415806624332905\n",
       "33. -0.0583741434275801\n",
       "34. -0.157745694143249\n",
       "35. -0.255541102026832\n",
       "36. -0.35078322768962\n",
       "37. -0.442520443294852\n",
       "38. -0.529836140908493\n",
       "39. -0.611857890942719\n",
       "40. -0.687766159183974\n",
       "41. -0.756802495307928\n",
       "42. -0.818277111064411\n",
       "43. -0.871575772413588\n",
       "44. -0.916165936749455\n",
       "45. -0.951602073889516\n",
       "46. -0.977530117665097\n",
       "47. -0.993691003633465\n",
       "48. -0.999923257564101\n",
       "49. -0.996164608835841\n",
       "50. -0.982452612624332\n",
       "51. -0.958924274663138\n",
       "52. -0.925814682327732\n",
       "53. -0.883454655720153\n",
       "54. -0.832267442223901\n",
       "55. -0.772764487555987\n",
       "56. -0.705540325570392\n",
       "57. -0.631266637872321\n",
       "58. -0.550685542597638\n",
       "59. -0.464602179413757\n",
       "60. -0.373876664830236\n",
       "61. -0.279415498198926\n",
       "62. -0.182162504272095\n",
       "63. -0.0830894028174964\n",
       "64. 0.0168139004843506\n",
       "65. 0.116549204850494\n",
       "66. 0.215119988087816\n",
       "67. 0.311541363513379\n",
       "68. 0.404849920616598\n",
       "69. 0.494113351138609\n",
       "70. 0.5784397643882\n",
       "71. 0.656986598718789\n",
       "72. 0.728969040125876\n",
       "73. 0.793667863849153\n",
       "74. 0.850436620628565\n",
       "75. 0.898708095811627\n",
       "76. 0.937999976774739\n",
       "77. 0.967919672031487\n",
       "78. 0.988168233877\n",
       "79. 0.998543345374605\n",
       "80. 0.998941341839772\n",
       "81. 0.989358246623382\n",
       "82. 0.969889810845086\n",
       "83. 0.940730556679773\n",
       "84. 0.902171833756293\n",
       "85. 0.85459890808828\n",
       "86. 0.79848711262349\n",
       "87. 0.734397097874113\n",
       "88. 0.662969230082182\n",
       "89. 0.584917192891762\n",
       "90. 0.501020856457885\n",
       "91. 0.412118485241757\n",
       "92. 0.319098362349352\n",
       "93. 0.222889914100246\n",
       "94. 0.124454423507062\n",
       "95. 0.0247754254533578\n",
       "96. -0.0751511204618093\n",
       "97. -0.174326781222981\n",
       "98. -0.271760626410944\n",
       "99. -0.366479129251928\n",
       "100. -0.457535893775321\n",
       "101. -0.54402111088937\n",
       "\n",
       "\n"
      ],
      "text/plain": [
       "  [1]  0.00000000  0.09983342  0.19866933  0.29552021  0.38941834  0.47942554\n",
       "  [7]  0.56464247  0.64421769  0.71735609  0.78332691  0.84147098  0.89120736\n",
       " [13]  0.93203909  0.96355819  0.98544973  0.99749499  0.99957360  0.99166481\n",
       " [19]  0.97384763  0.94630009  0.90929743  0.86320937  0.80849640  0.74570521\n",
       " [25]  0.67546318  0.59847214  0.51550137  0.42737988  0.33498815  0.23924933\n",
       " [31]  0.14112001  0.04158066 -0.05837414 -0.15774569 -0.25554110 -0.35078323\n",
       " [37] -0.44252044 -0.52983614 -0.61185789 -0.68776616 -0.75680250 -0.81827711\n",
       " [43] -0.87157577 -0.91616594 -0.95160207 -0.97753012 -0.99369100 -0.99992326\n",
       " [49] -0.99616461 -0.98245261 -0.95892427 -0.92581468 -0.88345466 -0.83226744\n",
       " [55] -0.77276449 -0.70554033 -0.63126664 -0.55068554 -0.46460218 -0.37387666\n",
       " [61] -0.27941550 -0.18216250 -0.08308940  0.01681390  0.11654920  0.21511999\n",
       " [67]  0.31154136  0.40484992  0.49411335  0.57843976  0.65698660  0.72896904\n",
       " [73]  0.79366786  0.85043662  0.89870810  0.93799998  0.96791967  0.98816823\n",
       " [79]  0.99854335  0.99894134  0.98935825  0.96988981  0.94073056  0.90217183\n",
       " [85]  0.85459891  0.79848711  0.73439710  0.66296923  0.58491719  0.50102086\n",
       " [91]  0.41211849  0.31909836  0.22288991  0.12445442  0.02477543 -0.07515112\n",
       " [97] -0.17432678 -0.27176063 -0.36647913 -0.45753589 -0.54402111"
      ]
     },
     "metadata": {},
     "output_type": "display_data"
    },
    {
     "data": {
      "image/png": "[encoded data removed]",
      "text/plain": [
       "plot without title"
      ]
     },
     "metadata": {
      "filenames": {
       "image/png": "/home/boergel/Documents/work/bwes_book/_build/jupyter_execute/intro_r_1_51_2.png"
      }
     },
     "output_type": "display_data"
    }
   ],
   "source": [
    "t=seq(from=0, to= 10, by=0.1)\n",
    "t\n",
    "myseries=sin(t)\n",
    "myseries\n",
    "plot(t,myseries)\n"
   ]
  },
  {
   "cell_type": "markdown",
   "id": "synthetic-contest",
   "metadata": {},
   "source": [
    "<span style=\"color: red;\">Bonus Task: </span> Define a vector n from 1 to 10 and calculate\n",
    "\n",
    "$$\\frac{1}{\\sqrt{5}} \\left( \\left( \\frac{1+\\sqrt{5} }{2} \\right)^n - \\left( \\frac{1-\\sqrt{5}}{2} \\right)^n \\right)$$\n",
    "\n",
    "What numbers do you get?"
   ]
  },
  {
   "cell_type": "code",
   "execution_count": null,
   "id": "instructional-training",
   "metadata": {},
   "outputs": [],
   "source": []
  },
  {
   "cell_type": "markdown",
   "id": "ignored-peripheral",
   "metadata": {},
   "source": [
    "### 2.2 data.frames\n",
    "\n",
    "A data.frame is a very common data structure for storing data in R: A table of several vectors of the same length. \n",
    "\n",
    "Each row is a different object. Each column is a different property. Let us create an example."
   ]
  },
  {
   "cell_type": "code",
   "execution_count": 61,
   "id": "still-retirement",
   "metadata": {},
   "outputs": [],
   "source": [
    "participants = data.frame(name       = c(\"Anna\", \"Boris\", \"Christina\", \"David\"),\n",
    "                          surname    = c(\"Meier\", \"Smirnov\", \"Rabe\", \"Potter\"),\n",
    "                          age        = c(23, 25, 30, 24),\n",
    "                          is.student = c(TRUE, TRUE, FALSE, TRUE),\n",
    "                          stringsAsFactors = FALSE)"
   ]
  },
  {
   "cell_type": "markdown",
   "id": "stylish-tracker",
   "metadata": {},
   "source": [
    "(We will talk about stringsAsFactors later.)\n",
    "\n",
    "Now print the data.frame:"
   ]
  },
  {
   "cell_type": "code",
   "execution_count": 62,
   "id": "dirty-richards",
   "metadata": {},
   "outputs": [
    {
     "data": {
      "text/html": [
       "<table>\n",
       "<thead><tr><th scope=col>name</th><th scope=col>surname</th><th scope=col>age</th><th scope=col>is.student</th></tr></thead>\n",
       "<tbody>\n",
       "\t<tr><td>Anna     </td><td>Meier    </td><td>23       </td><td> TRUE    </td></tr>\n",
       "\t<tr><td>Boris    </td><td>Smirnov  </td><td>25       </td><td> TRUE    </td></tr>\n",
       "\t<tr><td>Christina</td><td>Rabe     </td><td>30       </td><td>FALSE    </td></tr>\n",
       "\t<tr><td>David    </td><td>Potter   </td><td>24       </td><td> TRUE    </td></tr>\n",
       "</tbody>\n",
       "</table>\n"
      ],
      "text/latex": [
       "\\begin{tabular}{r|llll}\n",
       " name & surname & age & is.student\\\\\n",
       "\\hline\n",
       "\t Anna      & Meier     & 23        &  TRUE    \\\\\n",
       "\t Boris     & Smirnov   & 25        &  TRUE    \\\\\n",
       "\t Christina & Rabe      & 30        & FALSE    \\\\\n",
       "\t David     & Potter    & 24        &  TRUE    \\\\\n",
       "\\end{tabular}\n"
      ],
      "text/markdown": [
       "\n",
       "| name | surname | age | is.student |\n",
       "|---|---|---|---|\n",
       "| Anna      | Meier     | 23        |  TRUE     |\n",
       "| Boris     | Smirnov   | 25        |  TRUE     |\n",
       "| Christina | Rabe      | 30        | FALSE     |\n",
       "| David     | Potter    | 24        |  TRUE     |\n",
       "\n"
      ],
      "text/plain": [
       "  name      surname age is.student\n",
       "1 Anna      Meier   23   TRUE     \n",
       "2 Boris     Smirnov 25   TRUE     \n",
       "3 Christina Rabe    30  FALSE     \n",
       "4 David     Potter  24   TRUE     "
      ]
     },
     "metadata": {},
     "output_type": "display_data"
    }
   ],
   "source": [
    "participants"
   ]
  },
  {
   "cell_type": "code",
   "execution_count": 63,
   "id": "productive-tender",
   "metadata": {},
   "outputs": [
    {
     "name": "stdout",
     "output_type": "stream",
     "text": [
      "       name surname age is.student\n",
      "1      Anna   Meier  23       TRUE\n",
      "2     Boris Smirnov  25       TRUE\n",
      "3 Christina    Rabe  30      FALSE\n",
      "4     David  Potter  24       TRUE\n"
     ]
    }
   ],
   "source": [
    "print(participants)"
   ]
  },
  {
   "cell_type": "markdown",
   "id": "foreign-hypothesis",
   "metadata": {},
   "source": [
    "There are a lot of ways to access data in a data.frame. For example, we can address the columns by their name using the dollar symbol. This gives us vectors."
   ]
  },
  {
   "cell_type": "code",
   "execution_count": 64,
   "id": "distinguished-station",
   "metadata": {},
   "outputs": [
    {
     "data": {
      "text/html": [
       "<ol class=list-inline>\n",
       "\t<li>23</li>\n",
       "\t<li>25</li>\n",
       "\t<li>30</li>\n",
       "\t<li>24</li>\n",
       "</ol>\n"
      ],
      "text/latex": [
       "\\begin{enumerate*}\n",
       "\\item 23\n",
       "\\item 25\n",
       "\\item 30\n",
       "\\item 24\n",
       "\\end{enumerate*}\n"
      ],
      "text/markdown": [
       "1. 23\n",
       "2. 25\n",
       "3. 30\n",
       "4. 24\n",
       "\n",
       "\n"
      ],
      "text/plain": [
       "[1] 23 25 30 24"
      ]
     },
     "metadata": {},
     "output_type": "display_data"
    }
   ],
   "source": [
    "participants$age"
   ]
  },
  {
   "cell_type": "code",
   "execution_count": 65,
   "id": "ultimate-myrtle",
   "metadata": {},
   "outputs": [
    {
     "data": {
      "text/html": [
       "30"
      ],
      "text/latex": [
       "30"
      ],
      "text/markdown": [
       "30"
      ],
      "text/plain": [
       "[1] 30"
      ]
     },
     "metadata": {},
     "output_type": "display_data"
    }
   ],
   "source": [
    "participants$age[3]"
   ]
  },
  {
   "cell_type": "markdown",
   "id": "organizational-egyptian",
   "metadata": {},
   "source": [
    "We can add new columns by just providing data. "
   ]
  },
  {
   "cell_type": "code",
   "execution_count": 66,
   "id": "metallic-invite",
   "metadata": {},
   "outputs": [
    {
     "data": {
      "text/html": [
       "<table>\n",
       "<thead><tr><th scope=col>name</th><th scope=col>surname</th><th scope=col>age</th><th scope=col>is.student</th><th scope=col>arrived</th></tr></thead>\n",
       "<tbody>\n",
       "\t<tr><td>Anna     </td><td>Meier    </td><td>23       </td><td> TRUE    </td><td>FALSE    </td></tr>\n",
       "\t<tr><td>Boris    </td><td>Smirnov  </td><td>25       </td><td> TRUE    </td><td> TRUE    </td></tr>\n",
       "\t<tr><td>Christina</td><td>Rabe     </td><td>30       </td><td>FALSE    </td><td> TRUE    </td></tr>\n",
       "\t<tr><td>David    </td><td>Potter   </td><td>24       </td><td> TRUE    </td><td>FALSE    </td></tr>\n",
       "</tbody>\n",
       "</table>\n"
      ],
      "text/latex": [
       "\\begin{tabular}{r|lllll}\n",
       " name & surname & age & is.student & arrived\\\\\n",
       "\\hline\n",
       "\t Anna      & Meier     & 23        &  TRUE     & FALSE    \\\\\n",
       "\t Boris     & Smirnov   & 25        &  TRUE     &  TRUE    \\\\\n",
       "\t Christina & Rabe      & 30        & FALSE     &  TRUE    \\\\\n",
       "\t David     & Potter    & 24        &  TRUE     & FALSE    \\\\\n",
       "\\end{tabular}\n"
      ],
      "text/markdown": [
       "\n",
       "| name | surname | age | is.student | arrived |\n",
       "|---|---|---|---|---|\n",
       "| Anna      | Meier     | 23        |  TRUE     | FALSE     |\n",
       "| Boris     | Smirnov   | 25        |  TRUE     |  TRUE     |\n",
       "| Christina | Rabe      | 30        | FALSE     |  TRUE     |\n",
       "| David     | Potter    | 24        |  TRUE     | FALSE     |\n",
       "\n"
      ],
      "text/plain": [
       "  name      surname age is.student arrived\n",
       "1 Anna      Meier   23   TRUE      FALSE  \n",
       "2 Boris     Smirnov 25   TRUE       TRUE  \n",
       "3 Christina Rabe    30  FALSE       TRUE  \n",
       "4 David     Potter  24   TRUE      FALSE  "
      ]
     },
     "metadata": {},
     "output_type": "display_data"
    }
   ],
   "source": [
    "participants$arrived = c(FALSE, TRUE, TRUE, FALSE)\n",
    "participants"
   ]
  },
  {
   "cell_type": "markdown",
   "id": "communist-nelson",
   "metadata": {},
   "source": [
    "<span style=\"color: red;\">Task: </span> David Potter showed up a bit later. Change the data accordingy."
   ]
  },
  {
   "cell_type": "code",
   "execution_count": 69,
   "id": "built-cable",
   "metadata": {},
   "outputs": [
    {
     "data": {
      "text/html": [
       "<table>\n",
       "<thead><tr><th scope=col>name</th><th scope=col>surname</th><th scope=col>age</th><th scope=col>is.student</th><th scope=col>arrived</th></tr></thead>\n",
       "<tbody>\n",
       "\t<tr><td>Anna     </td><td>Meier    </td><td>23       </td><td> TRUE    </td><td>FALSE    </td></tr>\n",
       "\t<tr><td>Boris    </td><td>Smirnov  </td><td>25       </td><td> TRUE    </td><td> TRUE    </td></tr>\n",
       "\t<tr><td>Christina</td><td>Rabe     </td><td>30       </td><td>FALSE    </td><td> TRUE    </td></tr>\n",
       "\t<tr><td>David    </td><td>Potter   </td><td>24       </td><td> TRUE    </td><td> TRUE    </td></tr>\n",
       "</tbody>\n",
       "</table>\n"
      ],
      "text/latex": [
       "\\begin{tabular}{r|lllll}\n",
       " name & surname & age & is.student & arrived\\\\\n",
       "\\hline\n",
       "\t Anna      & Meier     & 23        &  TRUE     & FALSE    \\\\\n",
       "\t Boris     & Smirnov   & 25        &  TRUE     &  TRUE    \\\\\n",
       "\t Christina & Rabe      & 30        & FALSE     &  TRUE    \\\\\n",
       "\t David     & Potter    & 24        &  TRUE     &  TRUE    \\\\\n",
       "\\end{tabular}\n"
      ],
      "text/markdown": [
       "\n",
       "| name | surname | age | is.student | arrived |\n",
       "|---|---|---|---|---|\n",
       "| Anna      | Meier     | 23        |  TRUE     | FALSE     |\n",
       "| Boris     | Smirnov   | 25        |  TRUE     |  TRUE     |\n",
       "| Christina | Rabe      | 30        | FALSE     |  TRUE     |\n",
       "| David     | Potter    | 24        |  TRUE     |  TRUE     |\n",
       "\n"
      ],
      "text/plain": [
       "  name      surname age is.student arrived\n",
       "1 Anna      Meier   23   TRUE      FALSE  \n",
       "2 Boris     Smirnov 25   TRUE       TRUE  \n",
       "3 Christina Rabe    30  FALSE       TRUE  \n",
       "4 David     Potter  24   TRUE       TRUE  "
      ]
     },
     "metadata": {},
     "output_type": "display_data"
    }
   ],
   "source": [
    "participants$arrived[4]=TRUE\n",
    "participants"
   ]
  },
  {
   "cell_type": "markdown",
   "id": "comparative-julian",
   "metadata": {},
   "source": [
    "Let us calculate the mean age of all participants that have arrived."
   ]
  },
  {
   "cell_type": "code",
   "execution_count": 70,
   "id": "cross-destination",
   "metadata": {},
   "outputs": [
    {
     "data": {
      "text/html": [
       "26.3333333333333"
      ],
      "text/latex": [
       "26.3333333333333"
      ],
      "text/markdown": [
       "26.3333333333333"
      ],
      "text/plain": [
       "[1] 26.33333"
      ]
     },
     "metadata": {},
     "output_type": "display_data"
    }
   ],
   "source": [
    "mean(participants$age[participants$arrived == TRUE])"
   ]
  },
  {
   "cell_type": "markdown",
   "id": "annoying-insert",
   "metadata": {},
   "source": [
    "<span style=\"color: red;\">Task: </span> Calculate the mean age of all students that have arrived. You can connect logical expressions using `&` as the AND operator."
   ]
  },
  {
   "cell_type": "code",
   "execution_count": 80,
   "id": "modified-warning",
   "metadata": {},
   "outputs": [
    {
     "data": {
      "text/html": [
       "24.5"
      ],
      "text/latex": [
       "24.5"
      ],
      "text/markdown": [
       "24.5"
      ],
      "text/plain": [
       "[1] 24.5"
      ]
     },
     "metadata": {},
     "output_type": "display_data"
    },
    {
     "data": {
      "text/html": [
       "24.5"
      ],
      "text/latex": [
       "24.5"
      ],
      "text/markdown": [
       "24.5"
      ],
      "text/plain": [
       "[1] 24.5"
      ]
     },
     "metadata": {},
     "output_type": "display_data"
    }
   ],
   "source": [
    "mean(participants$age[participants$arrived == TRUE & participants$is.student == TRUE])\n",
    "mean(participants$age[participants$arrived & participants$is.student])"
   ]
  },
  {
   "cell_type": "markdown",
   "id": "suitable-maple",
   "metadata": {},
   "source": [
    "Another option is to access the data by row and column."
   ]
  },
  {
   "cell_type": "code",
   "execution_count": 76,
   "id": "certain-intranet",
   "metadata": {},
   "outputs": [
    {
     "data": {
      "text/html": [
       "'Potter'"
      ],
      "text/latex": [
       "'Potter'"
      ],
      "text/markdown": [
       "'Potter'"
      ],
      "text/plain": [
       "[1] \"Potter\""
      ]
     },
     "metadata": {},
     "output_type": "display_data"
    }
   ],
   "source": [
    "participants[4,2]"
   ]
  },
  {
   "cell_type": "markdown",
   "id": "above-wrong",
   "metadata": {},
   "source": [
    "Again you can use the names instead of the indexes. Leaving an index empty means \"select all\"."
   ]
  },
  {
   "cell_type": "code",
   "execution_count": 77,
   "id": "intelligent-local",
   "metadata": {},
   "outputs": [
    {
     "data": {
      "text/html": [
       "<ol class=list-inline>\n",
       "\t<li>'Meier'</li>\n",
       "\t<li>'Potter'</li>\n",
       "</ol>\n"
      ],
      "text/latex": [
       "\\begin{enumerate*}\n",
       "\\item 'Meier'\n",
       "\\item 'Potter'\n",
       "\\end{enumerate*}\n"
      ],
      "text/markdown": [
       "1. 'Meier'\n",
       "2. 'Potter'\n",
       "\n",
       "\n"
      ],
      "text/plain": [
       "[1] \"Meier\"  \"Potter\""
      ]
     },
     "metadata": {},
     "output_type": "display_data"
    }
   ],
   "source": [
    "participants[c(1,4),\"surname\"]"
   ]
  },
  {
   "cell_type": "code",
   "execution_count": 78,
   "id": "wired-survey",
   "metadata": {},
   "outputs": [
    {
     "data": {
      "text/html": [
       "<ol class=list-inline>\n",
       "\t<li>'Meier'</li>\n",
       "\t<li>'Smirnov'</li>\n",
       "\t<li>'Rabe'</li>\n",
       "\t<li>'Potter'</li>\n",
       "</ol>\n"
      ],
      "text/latex": [
       "\\begin{enumerate*}\n",
       "\\item 'Meier'\n",
       "\\item 'Smirnov'\n",
       "\\item 'Rabe'\n",
       "\\item 'Potter'\n",
       "\\end{enumerate*}\n"
      ],
      "text/markdown": [
       "1. 'Meier'\n",
       "2. 'Smirnov'\n",
       "3. 'Rabe'\n",
       "4. 'Potter'\n",
       "\n",
       "\n"
      ],
      "text/plain": [
       "[1] \"Meier\"   \"Smirnov\" \"Rabe\"    \"Potter\" "
      ]
     },
     "metadata": {},
     "output_type": "display_data"
    }
   ],
   "source": [
    "participants[,\"surname\"]"
   ]
  },
  {
   "cell_type": "markdown",
   "id": "normal-avenue",
   "metadata": {},
   "source": [
    "<span style=\"color: red;\">Task: </span> Get name, surname and age of all students only.\n",
    "\n",
    "<span style=\"color: red;\">Bonus Task: </span> Find out what the function `order()` does and sort the list by their age."
   ]
  },
  {
   "cell_type": "code",
   "execution_count": null,
   "id": "senior-inflation",
   "metadata": {},
   "outputs": [],
   "source": []
  },
  {
   "cell_type": "markdown",
   "id": "regulation-philosophy",
   "metadata": {},
   "source": [
    "## 3. Reading and writing data (textfiles)\n",
    "\n",
    "Now we would like to work on a real dataset. Let us take a sea level dataset that was downloaded from the Permanent Service for Mean Sea Level webpage (https://www.psmsl.org). But before we can start doing so, we must ensure that we are working in the correct folder.\n",
    "\n",
    "The following command prints the folder we are working in:<span style=\"color: red;\">Task: </span> Open the file warnemuende.txt and see how the file is structured. Read it in by using the function `read.csv2(...)` and find out which arguments to pass to the function so it reads the file correctly."
   ]
  },
  {
   "cell_type": "code",
   "execution_count": 81,
   "id": "minimal-better",
   "metadata": {},
   "outputs": [
    {
     "data": {
      "text/html": [
       "'/students_files/jkaiser'"
      ],
      "text/latex": [
       "'/students\\_files/jkaiser'"
      ],
      "text/markdown": [
       "'/students_files/jkaiser'"
      ],
      "text/plain": [
       "[1] \"/students_files/jkaiser\""
      ]
     },
     "metadata": {},
     "output_type": "display_data"
    }
   ],
   "source": [
    "getwd()"
   ]
  },
  {
   "cell_type": "markdown",
   "id": "minimal-gibson",
   "metadata": {},
   "source": [
    "If this is not your personal folder, change it by putting the correct directory name here:"
   ]
  },
  {
   "cell_type": "code",
   "execution_count": 82,
   "id": "synthetic-learning",
   "metadata": {},
   "outputs": [],
   "source": [
    "#setwd(\"/students_files/jkaiser\")   # put in your surname here"
   ]
  },
  {
   "cell_type": "markdown",
   "id": "revised-release",
   "metadata": {},
   "source": [
    "<span style=\"color: red;\">Task: </span> Open the file warnemuende.txt and see how the file is structured. Read it in by using the function `sealevel = read.csv2(...)` and find out which arguments to pass to the function so it reads the file correctly. Always use the `stringsAsFactors=FALSE` argument unless you know what you are doing and need to speed up the calculations."
   ]
  },
  {
   "cell_type": "code",
   "execution_count": 87,
   "id": "protected-mortgage",
   "metadata": {},
   "outputs": [],
   "source": [
    "sealevel=read.csv2(file = \"warnemuende.txt\", skip=2, stringsAsFactors = FALSE)"
   ]
  },
  {
   "cell_type": "markdown",
   "id": "incredible-increase",
   "metadata": {},
   "source": [
    "After loading it is good to check whether all data have the format we expect."
   ]
  },
  {
   "cell_type": "code",
   "execution_count": 88,
   "id": "extraordinary-angle",
   "metadata": {},
   "outputs": [
    {
     "name": "stdout",
     "output_type": "stream",
     "text": [
      "'data.frame':\t1977 obs. of  4 variables:\n",
      " $ decimalyear  : chr  \"  1855.2917\" \"  1855.3750\" \"  1855.4583\" \"  1855.5417\" ...\n",
      " $ sealevel     : int  6893 6928 6843 6926 7004 6993 6978 6882 6870 6950 ...\n",
      " $ missingdays  : int  0 0 0 0 0 0 0 0 0 0 ...\n",
      " $ attentionflag: int  0 0 0 0 0 0 0 0 0 0 ...\n"
     ]
    }
   ],
   "source": [
    "str(sealevel)"
   ]
  },
  {
   "cell_type": "markdown",
   "id": "tight-occurrence",
   "metadata": {},
   "source": [
    "We see that sealevel, missingdays and attentionflag are integer values. But decimalyear is character. We need to convert it to numeric."
   ]
  },
  {
   "cell_type": "code",
   "execution_count": 89,
   "id": "according-intelligence",
   "metadata": {},
   "outputs": [
    {
     "name": "stdout",
     "output_type": "stream",
     "text": [
      "'data.frame':\t1977 obs. of  4 variables:\n",
      " $ decimalyear  : num  1855 1855 1855 1856 1856 ...\n",
      " $ sealevel     : int  6893 6928 6843 6926 7004 6993 6978 6882 6870 6950 ...\n",
      " $ missingdays  : int  0 0 0 0 0 0 0 0 0 0 ...\n",
      " $ attentionflag: int  0 0 0 0 0 0 0 0 0 0 ...\n"
     ]
    }
   ],
   "source": [
    "sealevel$decimalyear = as.numeric(sealevel$decimalyear)\n",
    "str(sealevel)"
   ]
  },
  {
   "cell_type": "markdown",
   "id": "secret-necessity",
   "metadata": {},
   "source": [
    "There are two functions to quickly see what is inside a data.frame. "
   ]
  },
  {
   "cell_type": "code",
   "execution_count": 90,
   "id": "compatible-amino",
   "metadata": {},
   "outputs": [
    {
     "data": {
      "text/html": [
       "<table>\n",
       "<thead><tr><th scope=col>decimalyear</th><th scope=col>sealevel</th><th scope=col>missingdays</th><th scope=col>attentionflag</th></tr></thead>\n",
       "<tbody>\n",
       "\t<tr><td>1855.292</td><td>6893    </td><td>0       </td><td>0       </td></tr>\n",
       "\t<tr><td>1855.375</td><td>6928    </td><td>0       </td><td>0       </td></tr>\n",
       "\t<tr><td>1855.458</td><td>6843    </td><td>0       </td><td>0       </td></tr>\n",
       "\t<tr><td>1855.542</td><td>6926    </td><td>0       </td><td>0       </td></tr>\n",
       "\t<tr><td>1855.625</td><td>7004    </td><td>0       </td><td>0       </td></tr>\n",
       "\t<tr><td>1855.708</td><td>6993    </td><td>0       </td><td>0       </td></tr>\n",
       "</tbody>\n",
       "</table>\n"
      ],
      "text/latex": [
       "\\begin{tabular}{r|llll}\n",
       " decimalyear & sealevel & missingdays & attentionflag\\\\\n",
       "\\hline\n",
       "\t 1855.292 & 6893     & 0        & 0       \\\\\n",
       "\t 1855.375 & 6928     & 0        & 0       \\\\\n",
       "\t 1855.458 & 6843     & 0        & 0       \\\\\n",
       "\t 1855.542 & 6926     & 0        & 0       \\\\\n",
       "\t 1855.625 & 7004     & 0        & 0       \\\\\n",
       "\t 1855.708 & 6993     & 0        & 0       \\\\\n",
       "\\end{tabular}\n"
      ],
      "text/markdown": [
       "\n",
       "| decimalyear | sealevel | missingdays | attentionflag |\n",
       "|---|---|---|---|\n",
       "| 1855.292 | 6893     | 0        | 0        |\n",
       "| 1855.375 | 6928     | 0        | 0        |\n",
       "| 1855.458 | 6843     | 0        | 0        |\n",
       "| 1855.542 | 6926     | 0        | 0        |\n",
       "| 1855.625 | 7004     | 0        | 0        |\n",
       "| 1855.708 | 6993     | 0        | 0        |\n",
       "\n"
      ],
      "text/plain": [
       "  decimalyear sealevel missingdays attentionflag\n",
       "1 1855.292    6893     0           0            \n",
       "2 1855.375    6928     0           0            \n",
       "3 1855.458    6843     0           0            \n",
       "4 1855.542    6926     0           0            \n",
       "5 1855.625    7004     0           0            \n",
       "6 1855.708    6993     0           0            "
      ]
     },
     "metadata": {},
     "output_type": "display_data"
    },
    {
     "data": {
      "text/plain": [
       "  decimalyear      sealevel       missingdays attentionflag\n",
       " Min.   :1855   Min.   :-99999   Min.   :0    Min.   :0    \n",
       " 1st Qu.:1896   1st Qu.:  6936   1st Qu.:0    1st Qu.:0    \n",
       " Median :1938   Median :  7015   Median :0    Median :0    \n",
       " Mean   :1938   Mean   :  6903   Mean   :0    Mean   :0    \n",
       " 3rd Qu.:1979   3rd Qu.:  7085   3rd Qu.:0    3rd Qu.:0    \n",
       " Max.   :2020   Max.   :  7366   Max.   :0    Max.   :0    "
      ]
     },
     "metadata": {},
     "output_type": "display_data"
    }
   ],
   "source": [
    "head(sealevel)\n",
    "summary(sealevel)"
   ]
  },
  {
   "cell_type": "markdown",
   "id": "formal-revelation",
   "metadata": {},
   "source": [
    "<span style=\"color: red;\">Task: </span> Find out what might be wrong with the data!\n",
    "\n",
    "But it is mostly good to also do a plot and we may see more."
   ]
  },
  {
   "cell_type": "markdown",
   "id": "engaged-joseph",
   "metadata": {},
   "source": [
    "## 4. Creating simple plots"
   ]
  },
  {
   "cell_type": "markdown",
   "id": "ceramic-activation",
   "metadata": {},
   "source": [
    "There are two typical ways to do plots in R: \n",
    "\n",
    "(a) Using the basic functions \n",
    "\n",
    "(b) Using the more fancy `ggplot2` package. \n",
    "\n",
    "We will show both possibilities. Let us start with the first one."
   ]
  },
  {
   "cell_type": "code",
   "execution_count": null,
   "id": "married-investigation",
   "metadata": {},
   "outputs": [],
   "source": [
    "plot(sealevel$decimalyear, sealevel$sealevel)"
   ]
  },
  {
   "cell_type": "markdown",
   "id": "present-bathroom",
   "metadata": {},
   "source": [
    "Okay we have a missing value obviously, and it has no attention flag! That's bad. \n",
    "\n",
    "<span style=\"color: red;\">Task: </span> Change the bad value to `NA` which is the R expression for missing data!"
   ]
  },
  {
   "cell_type": "code",
   "execution_count": null,
   "id": "tested-trace",
   "metadata": {},
   "outputs": [],
   "source": []
  },
  {
   "cell_type": "markdown",
   "id": "joined-means",
   "metadata": {},
   "source": [
    "Okay that is nice but we may prefer a line so we see more."
   ]
  },
  {
   "cell_type": "code",
   "execution_count": null,
   "id": "incorporate-sauce",
   "metadata": {},
   "outputs": [],
   "source": [
    "plot(sealevel$decimalyear,sealevel$sealevel, type=\"l\")"
   ]
  },
  {
   "cell_type": "markdown",
   "id": "aerial-clothing",
   "metadata": {},
   "source": [
    "<span style=\"color: red;\">Task: </span> Change the x axis description to \"year\" and the y axis description to \"relative sea level (mm)\""
   ]
  },
  {
   "cell_type": "code",
   "execution_count": null,
   "id": "centered-miracle",
   "metadata": {},
   "outputs": [],
   "source": []
  },
  {
   "cell_type": "markdown",
   "id": "fatal-psychiatry",
   "metadata": {},
   "source": [
    "Another nice basic plotting function:"
   ]
  },
  {
   "cell_type": "code",
   "execution_count": null,
   "id": "antique-prescription",
   "metadata": {},
   "outputs": [],
   "source": [
    "hist(sealevel$sealevel)"
   ]
  },
  {
   "cell_type": "markdown",
   "id": "prescribed-spiritual",
   "metadata": {},
   "source": [
    "For more fancy options it makes sense to use the `ggplot2` package.\n",
    "\n",
    "You can install packages to R that include functionality. Mostly this is very simple by typing \n",
    "\n",
    "`install.packages(\"my_desired_package\")`\n",
    "\n",
    "but please do not do this here on the server. We have a lot of packages already installed:"
   ]
  },
  {
   "cell_type": "code",
   "execution_count": null,
   "id": "lesser-favor",
   "metadata": {},
   "outputs": [],
   "source": [
    "library()"
   ]
  },
  {
   "cell_type": "markdown",
   "id": "cognitive-inspiration",
   "metadata": {},
   "source": [
    "Let us load the graphics package `ggplot2`."
   ]
  },
  {
   "cell_type": "code",
   "execution_count": null,
   "id": "loose-plasma",
   "metadata": {},
   "outputs": [
    {
     "name": "stderr",
     "output_type": "stream",
     "text": [
      "also installing the dependencies 'lattice', 'colorspace', 'nlme', 'Matrix', 'farver', 'labeling', 'munsell', 'R6', 'RColorBrewer', 'viridisLite', 'magrittr', 'pkgconfig', 'gtable', 'isoband', 'MASS', 'mgcv', 'scales', 'tibble', 'withr'\n",
      "\n",
      "\n"
     ]
    }
   ],
   "source": [
    "library(ggplot2)"
   ]
  },
  {
   "cell_type": "markdown",
   "id": "spare-clearance",
   "metadata": {},
   "source": [
    "The philosophy is to define a plot that is based on a data.frame, and then \"add\" elements to it.\n",
    "So our simple plot looks like this:"
   ]
  },
  {
   "cell_type": "code",
   "execution_count": null,
   "id": "fancy-equality",
   "metadata": {},
   "outputs": [],
   "source": [
    "ggplot(data = sealevel) + geom_path(mapping = aes(x=decimalyear, y=sealevel))"
   ]
  },
  {
   "cell_type": "markdown",
   "id": "induced-modem",
   "metadata": {},
   "source": [
    "The function `aes()` maps the column names in the data.frame (decimalyear, sealevel) to the input parameters of the plot element, in this case `geom_path`.\n",
    "\n",
    "We can add a trendline and modify the y axis:"
   ]
  },
  {
   "cell_type": "code",
   "execution_count": null,
   "id": "narrative-meaning",
   "metadata": {},
   "outputs": [],
   "source": [
    "ggplot(data = sealevel) + \n",
    "  geom_path(aes(x=decimalyear, y=sealevel)) + \n",
    "  geom_smooth(aes(x=decimalyear, y=sealevel), method = \"lm\") +\n",
    "  scale_y_continuous(name = \"relative sea level (mm)\")"
   ]
  },
  {
   "cell_type": "markdown",
   "id": "confident-norfolk",
   "metadata": {},
   "source": [
    "And let's save the plot to a png file."
   ]
  },
  {
   "cell_type": "code",
   "execution_count": null,
   "id": "stainless-mobile",
   "metadata": {},
   "outputs": [],
   "source": [
    "png(file=\"testplot.png\", width=1000, height=1000, res=150, units=\"px\")\n",
    "ggplot(data = sealevel) + \n",
    "  geom_path(aes(x=decimalyear, y=sealevel)) + \n",
    "  geom_smooth(aes(x=decimalyear, y=sealevel), method = \"lm\") +\n",
    "  scale_y_continuous(name = \"relative sea level (mm)\")\n",
    "dev.off()"
   ]
  },
  {
   "cell_type": "markdown",
   "id": "included-obligation",
   "metadata": {},
   "source": [
    "## 5. Using `apply()` and `aggregate()`"
   ]
  },
  {
   "cell_type": "markdown",
   "id": "interesting-stage",
   "metadata": {},
   "source": [
    "Next, we want to aggregate the monthly data to annual data. The `decimalyear` column means that e.g. 1900.0 is January 1st, 1900 and 1900.5 would be in the middle of the year 1900. Let us first try what the `apply()` function does:"
   ]
  },
  {
   "cell_type": "code",
   "execution_count": 1,
   "id": "resident-photographer",
   "metadata": {},
   "outputs": [
    {
     "ename": "ERROR",
     "evalue": "Error in apply(sealevel, 2, mean): object 'sealevel' not found\n",
     "output_type": "error",
     "traceback": [
      "Error in apply(sealevel, 2, mean): object 'sealevel' not found\nTraceback:\n",
      "1. apply(sealevel, 2, mean)"
     ]
    }
   ],
   "source": [
    "apply(sealevel, 2, mean)   # apply the function \"mean\" to sealevel over the index 2 (=columns)"
   ]
  },
  {
   "cell_type": "code",
   "execution_count": null,
   "id": "bronze-exception",
   "metadata": {},
   "outputs": [],
   "source": [
    "apply(sealevel, 2, mean, na.rm=TRUE) # remove the missing values before applying the mean"
   ]
  },
  {
   "cell_type": "markdown",
   "id": "intermediate-marina",
   "metadata": {},
   "source": [
    "Note that the last arguments (from argument 4 on) are passed to the function that is called for every column, in this case, `mean()`. \n",
    "\n",
    "We could also calculate a mean over the rows, but it makes no sense:"
   ]
  },
  {
   "cell_type": "code",
   "execution_count": null,
   "id": "signal-coordination",
   "metadata": {},
   "outputs": [],
   "source": [
    "apply(sealevel, 1, mean, na.rm=TRUE)"
   ]
  },
  {
   "cell_type": "markdown",
   "id": "productive-killer",
   "metadata": {},
   "source": [
    "<span style=\"color: red;\">Task: </span> Use the function `quantile` inside `apply()` to calculate the 5th, 50th and 95th percentile of each column of our data.frame"
   ]
  },
  {
   "cell_type": "code",
   "execution_count": null,
   "id": "legislative-mother",
   "metadata": {},
   "outputs": [],
   "source": []
  },
  {
   "cell_type": "markdown",
   "id": "virgin-republic",
   "metadata": {},
   "source": [
    "Another nice function is `aggregate()`, it can also be applied to a whole data.frame. We will use it to calculate annnual means from the monthly means. To do so, we first have to get the calendar year from the decimal year by rounding it downward:"
   ]
  },
  {
   "cell_type": "code",
   "execution_count": null,
   "id": "pediatric-webcam",
   "metadata": {},
   "outputs": [],
   "source": [
    "sealevel$year = floor(sealevel$decimalyear)\n",
    "sealevel[1:15,]"
   ]
  },
  {
   "cell_type": "markdown",
   "id": "defensive-columbus",
   "metadata": {},
   "source": [
    "Now we can use `aggregate` to apply a function (in this case the `mean` function) over those entries where `year` is equal."
   ]
  },
  {
   "cell_type": "code",
   "execution_count": null,
   "id": "offensive-silly",
   "metadata": {},
   "outputs": [],
   "source": [
    "sealevel_annual = aggregate(sealevel, by=list(sealevel$year), mean, na.rm=TRUE)\n",
    "sealevel_annual"
   ]
  },
  {
   "cell_type": "markdown",
   "id": "patent-porter",
   "metadata": {},
   "source": [
    "<span style=\"color: red;\">Task: </span> Use the `ggplot` function to plot the annual time series."
   ]
  },
  {
   "cell_type": "code",
   "execution_count": null,
   "id": "complimentary-catalyst",
   "metadata": {},
   "outputs": [],
   "source": []
  },
  {
   "cell_type": "markdown",
   "id": "irish-rates",
   "metadata": {},
   "source": [
    "We can use the function `write.csv2()` to export the data to a file:"
   ]
  },
  {
   "cell_type": "code",
   "execution_count": null,
   "id": "desperate-machine",
   "metadata": {},
   "outputs": [],
   "source": [
    "write.csv2(sealevel_annual, file=\"warnemuende_annual.txt\", row.names=FALSE)"
   ]
  },
  {
   "cell_type": "markdown",
   "id": "amino-america",
   "metadata": {},
   "source": [
    "## 6. Loops and if-clauses"
   ]
  },
  {
   "cell_type": "code",
   "execution_count": 2,
   "id": "tender-clone",
   "metadata": {},
   "outputs": [
    {
     "data": {
      "text/html": [
       "<table>\n",
       "<thead><tr><th scope=col>decimalyear</th><th scope=col>sealevel</th><th scope=col>missingdays</th><th scope=col>attentionflag</th></tr></thead>\n",
       "<tbody>\n",
       "\t<tr><td>1855.292</td><td>6893    </td><td>0       </td><td>0       </td></tr>\n",
       "\t<tr><td>1855.375</td><td>6928    </td><td>0       </td><td>0       </td></tr>\n",
       "\t<tr><td>1855.458</td><td>6843    </td><td>0       </td><td>0       </td></tr>\n",
       "\t<tr><td>1855.542</td><td>6926    </td><td>0       </td><td>0       </td></tr>\n",
       "\t<tr><td>1855.625</td><td>7004    </td><td>0       </td><td>0       </td></tr>\n",
       "\t<tr><td>1855.708</td><td>6993    </td><td>0       </td><td>0       </td></tr>\n",
       "</tbody>\n",
       "</table>\n"
      ],
      "text/latex": [
       "\\begin{tabular}{r|llll}\n",
       " decimalyear & sealevel & missingdays & attentionflag\\\\\n",
       "\\hline\n",
       "\t 1855.292 & 6893     & 0        & 0       \\\\\n",
       "\t 1855.375 & 6928     & 0        & 0       \\\\\n",
       "\t 1855.458 & 6843     & 0        & 0       \\\\\n",
       "\t 1855.542 & 6926     & 0        & 0       \\\\\n",
       "\t 1855.625 & 7004     & 0        & 0       \\\\\n",
       "\t 1855.708 & 6993     & 0        & 0       \\\\\n",
       "\\end{tabular}\n"
      ],
      "text/markdown": [
       "\n",
       "| decimalyear | sealevel | missingdays | attentionflag |\n",
       "|---|---|---|---|\n",
       "| 1855.292 | 6893     | 0        | 0        |\n",
       "| 1855.375 | 6928     | 0        | 0        |\n",
       "| 1855.458 | 6843     | 0        | 0        |\n",
       "| 1855.542 | 6926     | 0        | 0        |\n",
       "| 1855.625 | 7004     | 0        | 0        |\n",
       "| 1855.708 | 6993     | 0        | 0        |\n",
       "\n"
      ],
      "text/plain": [
       "  decimalyear sealevel missingdays attentionflag\n",
       "1 1855.292    6893     0           0            \n",
       "2 1855.375    6928     0           0            \n",
       "3 1855.458    6843     0           0            \n",
       "4 1855.542    6926     0           0            \n",
       "5 1855.625    7004     0           0            \n",
       "6 1855.708    6993     0           0            "
      ]
     },
     "metadata": {},
     "output_type": "display_data"
    }
   ],
   "source": [
    "# setwd(\"/students_files/feldner\")   # put in your surname here\n",
    "sealevel = read.csv2(file = \"warnemuende.txt\", skip = 2, stringsAsFactors=FALSE)\n",
    "sealevel$decimalyear = as.numeric(sealevel$decimalyear)\n",
    "sealevel$sealevel[sealevel$sealevel==-99999]=NA\n",
    "head(sealevel)"
   ]
  },
  {
   "cell_type": "markdown",
   "id": "expanded-monitor",
   "metadata": {},
   "source": [
    "In some years there are rises in the sea level, in some years there are drops compared to the year before. Assume your task is to find the 5 years with the largest rise and the 5 years with the largest drop. One way to solve the problem is using a loop.\n",
    "\n",
    "There are more elegant ways of solving the problem. Typically you should avoid loops in R, since they make the calculations slow.\n",
    "\n",
    "<span style=\"color: red;\">Bonus Task: </span> While we solve the problem with a loop, write a solution without a loop!\n",
    "\n",
    "Loops in R work like this:"
   ]
  },
  {
   "cell_type": "code",
   "execution_count": null,
   "id": "confused-freight",
   "metadata": {},
   "outputs": [],
   "source": [
    "for (i in 1:10) {\n",
    "    print(sealevel_annual$sealevel[i])\n",
    "}"
   ]
  },
  {
   "cell_type": "markdown",
   "id": "directed-entertainment",
   "metadata": {},
   "source": [
    "If you want to loop over an entire vector, use the `seq_along()` function:"
   ]
  },
  {
   "cell_type": "code",
   "execution_count": null,
   "id": "rational-internship",
   "metadata": {},
   "outputs": [],
   "source": [
    "for (i in seq_along(sealevel_annual$sealevel)) {\n",
    "    print(sealevel_annual$sealevel[i])\n",
    "}"
   ]
  },
  {
   "cell_type": "markdown",
   "id": "foster-treasury",
   "metadata": {},
   "source": [
    "<span style=\"color: red;\">Task: </span> Print the sea differences between a year and the previous one. You can use the `length()` function to get the number of elements in a vector."
   ]
  },
  {
   "cell_type": "code",
   "execution_count": null,
   "id": "beautiful-beverage",
   "metadata": {},
   "outputs": [],
   "source": []
  },
  {
   "cell_type": "markdown",
   "id": "occasional-allen",
   "metadata": {},
   "source": [
    "Let's put more info into the output. We can use the function `paste0()` to connect strings:\n",
    "\n",
    "`paste0(\"abc\", \"def\") == \"abcdef\"`\n",
    "\n",
    "Let's make the loop more nice:"
   ]
  },
  {
   "cell_type": "code",
   "execution_count": null,
   "id": "complimentary-rotation",
   "metadata": {},
   "outputs": [],
   "source": [
    "for (i in 2:length(sealevel_annual$sealevel)) {\n",
    "    difference = sealevel_annual$sealevel[i] - sealevel_annual$sealevel[i-1]\n",
    "    difference = round(difference,2)\n",
    "    print(paste0(\"In the year \",sealevel_annual$year[i],\" we saw a sea level change by \",difference,\" mm.\"))\n",
    "}"
   ]
  },
  {
   "cell_type": "markdown",
   "id": "patent-realtor",
   "metadata": {},
   "source": [
    "Let's explitly write whether we saw a rise of drop."
   ]
  },
  {
   "cell_type": "code",
   "execution_count": null,
   "id": "czech-picking",
   "metadata": {},
   "outputs": [],
   "source": [
    "for (i in 2:length(sealevel_annual$sealevel)) {\n",
    "    difference = sealevel_annual$sealevel[i] - sealevel_annual$sealevel[i-1]\n",
    "    difference = round(difference,2)\n",
    "    if (difference > 0) {\n",
    "        print(paste0(\"In the year \",sealevel_annual$year[i],\" we saw a sea level rise: \",difference,\" mm.\"))\n",
    "    } else {\n",
    "        print(paste0(\"In the year \",sealevel_annual$year[i],\" we saw a sea level drop: \",difference,\" mm.\"))\n",
    "    }\n",
    "}"
   ]
  },
  {
   "cell_type": "markdown",
   "id": "arbitrary-subdivision",
   "metadata": {},
   "source": [
    "Now let us create a table of rises and drops like this:\n",
    "\n",
    "| from | to | change |\n",
    "|---|---|---|\n",
    "|1900|1901|33.1|\n",
    "|1901|1902|10.2|\n",
    "\n",
    "To do so, we start with two empty data.frames `rises` and `drops`.\n",
    "Every year we add a line to one of the data.frames, depending in whether the sea level rose or fell.\n",
    "We use the function `rbind()` to merge two data.frames by their rows. Let us first check how `rbind()` works."
   ]
  },
  {
   "cell_type": "code",
   "execution_count": null,
   "id": "bacterial-diabetes",
   "metadata": {},
   "outputs": [],
   "source": [
    "df1 = data.frame(a=1, b=2)                 # define data.frame with one row\n",
    "df2 = data.frame(a=c(2,3,4), b=c(4,6,8))   # define a second data.frame with three rows\n",
    "rbind(df1,df2)"
   ]
  },
  {
   "cell_type": "markdown",
   "id": "pharmaceutical-camcorder",
   "metadata": {},
   "source": [
    "Okay so let's do it. We start with `NULL` (no data) in the data.frames `rises` and `falls`.\n",
    "\n",
    "<span style=\"color: red;\">Task: </span> Complete the code so it will create our list of rises and falls."
   ]
  },
  {
   "cell_type": "code",
   "execution_count": null,
   "id": "historic-plymouth",
   "metadata": {},
   "outputs": [],
   "source": [
    "# initialize with no data\n",
    "rises=NULL\n",
    "falls=NULL\n",
    "\n",
    "# loop over years\n",
    "for (i in 2:length(sealevel_annual$sealevel)) {\n",
    "    difference = sealevel_annual$sealevel[i] - sealevel_annual$sealevel[i-1]\n",
    "    # create data.frame with one row\n",
    "    my_change = data.frame(from=???, \n",
    "                           to=???,\n",
    "                           change=???)\n",
    "    # append it to either \"rises\" or \"falls\"\n",
    "    if (difference > 0) {\n",
    "        rises = ???\n",
    "    } else {\n",
    "        falls = ???\n",
    "    }\n",
    "}\n",
    "\n",
    "# show the first rows of the output\n",
    "print(\"first 10 rises:\")\n",
    "rises[1:10,]\n",
    "\n",
    "print(\"first 10 falls:\")\n",
    "falls[1:10,]"
   ]
  },
  {
   "cell_type": "code",
   "execution_count": null,
   "id": "southeast-costa",
   "metadata": {},
   "outputs": [],
   "source": []
  },
  {
   "cell_type": "markdown",
   "id": "native-wrist",
   "metadata": {},
   "source": [
    "Now all we need to do is sort the rises and falls and choose the 5 largest ones."
   ]
  },
  {
   "cell_type": "code",
   "execution_count": null,
   "id": "essential-carrier",
   "metadata": {},
   "outputs": [],
   "source": [
    "rises = rises[order(rises$change, decreasing = TRUE),]\n",
    "falls = falls[order(falls$change, decreasing = FALSE),]\n",
    "\n",
    "largest_rises = rises[1:5,]\n",
    "largest_falls = falls[1:5,]\n",
    "\n",
    "print(\"largest rises:\")\n",
    "largest_rises\n",
    "print(\"largest falls:\")\n",
    "largest_falls"
   ]
  },
  {
   "cell_type": "markdown",
   "id": "known-potter",
   "metadata": {},
   "source": [
    "## 7. Writing your own functions\n",
    "\n",
    "Writing functions is very important for speeding up your work. It avoids that you do things twice and reduces errors.\n",
    "\n",
    "Writing functions in R works like this:"
   ]
  },
  {
   "cell_type": "code",
   "execution_count": null,
   "id": "institutional-greece",
   "metadata": {},
   "outputs": [],
   "source": [
    "calc_power = function(base, exponent) {\n",
    "    power = base^exponent\n",
    "    return(power)\n",
    "}"
   ]
  },
  {
   "cell_type": "markdown",
   "id": "precise-trademark",
   "metadata": {},
   "source": [
    "You can then invoke functions several times:"
   ]
  },
  {
   "cell_type": "code",
   "execution_count": null,
   "id": "outer-coupon",
   "metadata": {},
   "outputs": [],
   "source": [
    "calc_power(9,2)\n",
    "calc_power(10,3)"
   ]
  },
  {
   "cell_type": "markdown",
   "id": "hispanic-account",
   "metadata": {},
   "source": [
    "Please repeat the largest-rise calculations using a function: \n",
    "\n",
    "(1) Write a function that calculates the n largest rises in a time series. \n",
    "\n",
    "(2) Apply this function to the annual data.\n",
    "\n",
    "<span style=\"color: red;\">Task: </span> Complete the following code accordingly. You can copy code from above. But make sure you replace the original variables by the arguments of the function, so your function should not contain anything called \"sealevel\". (Because it should work on any time series.)"
   ]
  },
  {
   "cell_type": "code",
   "execution_count": null,
   "id": "ignored-moral",
   "metadata": {},
   "outputs": [],
   "source": [
    "largest_rises = function(timesteps, values, n) {  \n",
    "    rises = NULL\n",
    "    \n",
    "    ???\n",
    "    \n",
    "    return(largest_rises)\n",
    "}\n",
    "\n",
    "largest_rises(sealevel_annual$year, sealevel_annual$sealevel, 5)"
   ]
  },
  {
   "cell_type": "code",
   "execution_count": null,
   "id": "pregnant-causing",
   "metadata": {},
   "outputs": [],
   "source": []
  },
  {
   "cell_type": "markdown",
   "id": "identical-treasurer",
   "metadata": {},
   "source": [
    "The function will not work if missing values occur. We make it ignore possible missing values by checking `is.finite(difference)`."
   ]
  },
  {
   "cell_type": "code",
   "execution_count": null,
   "id": "moving-poverty",
   "metadata": {},
   "outputs": [],
   "source": [
    "largest_rises = function(timesteps, values, n) {  \n",
    "    rises = NULL\n",
    "    \n",
    "    for (i in 2:length(values)) {\n",
    "        difference = values[i] - values[i-1]\n",
    "        # create data.frame with one row\n",
    "        my_change = data.frame(from=timesteps[i-1], \n",
    "                               to=timesteps[i],\n",
    "                               change=difference)\n",
    "        # append it to either \"rises\" or \"falls\"\n",
    "        if (is.finite(difference)) {\n",
    "            if (difference > 0) {\n",
    "                rises = rbind(rises,my_change)\n",
    "            }\n",
    "        }\n",
    "    }\n",
    "    \n",
    "    rises = rises[order(rises$change,decreasing = TRUE),]\n",
    "    largest_rises = rises[1:n,]\n",
    "    \n",
    "    return(largest_rises)\n",
    "}"
   ]
  },
  {
   "cell_type": "markdown",
   "id": "secondary-baseball",
   "metadata": {},
   "source": [
    "<span style=\"color: red;\">Task: </span> Calculate the 10 largest rises in the monthly sea level data."
   ]
  },
  {
   "cell_type": "code",
   "execution_count": null,
   "id": "nutritional-yorkshire",
   "metadata": {},
   "outputs": [],
   "source": []
  }
 ],
 "metadata": {
  "kernelspec": {
   "display_name": "R",
   "language": "R",
   "name": "ir"
  },
  "language_info": {
   "codemirror_mode": "r",
   "file_extension": ".r",
   "mimetype": "text/x-r-source",
   "name": "R",
   "pygments_lexer": "r",
   "version": "4.0.3"
  }
 },
 "nbformat": 4,
 "nbformat_minor": 5
}