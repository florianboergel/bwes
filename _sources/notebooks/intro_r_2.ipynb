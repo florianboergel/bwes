{
 "cells": [
  {
   "cell_type": "markdown",
   "id": "numerous-management",
   "metadata": {},
   "source": [
    "# Introduction into R - Part 2\n",
    "This is part 2/2 of the introduction into R that is given for the Baltic Earth Winter School (BEWS). Feel free to share and distribute it.\n",
    "\n",
    "## Outline\n",
    "Part 1 of the introduction teaches some basic functionality of R. \n",
    "* Variables and their data types\n",
    "* Vectors and data.frames\n",
    "* Reading and writing data (textfiles)\n",
    "* Loading packages\n",
    "* Creating simple plots\n",
    "* Loops and if-clauses\n",
    "* Writing your own functions\n",
    "* Using \"apply\" and \"aggregate\"\n",
    "\n",
    "Part 2 of the introduction teaches some R features specific to the analysis of time series and spatial data.\n",
    "* Data formats for storing time information\n",
    "* Simple linear models (regression)\n",
    "* Lists vs Vectors\n",
    "* Working with NetCDF data (plotting simple maps)\n",
    "* Basic statistical tests"
   ]
  },
  {
   "cell_type": "markdown",
   "id": "competitive-suspect",
   "metadata": {},
   "source": [
    "## 1. Data formats for storing time information"
   ]
  },
  {
   "cell_type": "markdown",
   "id": "natural-basic",
   "metadata": {},
   "source": [
    "Let us load the monthly sea level data file again which we used in the last exercise. Please enter the correct path."
   ]
  },
  {
   "cell_type": "code",
   "execution_count": null,
   "id": "deluxe-guess",
   "metadata": {},
   "outputs": [],
   "source": [
    "#setwd(\"/students_files/feldner\")   # put in your surname here\n",
    "sealevel = read.csv2(file = \"warnemuende.txt\", skip = 2, stringsAsFactors=FALSE)\n",
    "sealevel$decimalyear = as.numeric(sealevel$decimalyear)\n",
    "sealevel$sealevel[sealevel$sealevel==-99999]=NA\n",
    "head(sealevel)"
   ]
  },
  {
   "cell_type": "markdown",
   "id": "unnecessary-operations",
   "metadata": {},
   "source": [
    "We have the strange time unit `decimalyear`. We want to convert it to a more suitable time format. The best one is the POSIXct format.\n",
    "\n",
    "To convert it to the format, we first split the decimalyear into year and day_of_year:"
   ]
  },
  {
   "cell_type": "code",
   "execution_count": null,
   "id": "correct-archive",
   "metadata": {},
   "outputs": [],
   "source": [
    "sealevel$year = floor(sealevel$decimalyear)\n",
    "sealevel$day_of_year = (sealevel$decimalyear - sealevel$year) * 365  # only approximately\n",
    "head(sealevel)"
   ]
  },
  {
   "cell_type": "markdown",
   "id": "local-chancellor",
   "metadata": {},
   "source": [
    "Now let us first generate a date that is the first day of the year. Later we will add the days."
   ]
  },
  {
   "cell_type": "code",
   "execution_count": null,
   "id": "bulgarian-bicycle",
   "metadata": {},
   "outputs": [],
   "source": [
    "sealevel$date = paste0(sealevel$year,\"-01-01\")\n",
    "head(sealevel)"
   ]
  },
  {
   "cell_type": "markdown",
   "id": "formed-article",
   "metadata": {},
   "source": [
    "We convert to POSIXct now. Then we have to add the days as seconds."
   ]
  },
  {
   "cell_type": "code",
   "execution_count": null,
   "id": "roman-dynamics",
   "metadata": {},
   "outputs": [],
   "source": [
    "sealevel$date = as.POSIXct(sealevel$date)\n",
    "sealevel$date = sealevel$date + sealevel$day_of_year * 24 * 3600\n",
    "head(sealevel)"
   ]
  },
  {
   "cell_type": "markdown",
   "id": "similar-spare",
   "metadata": {},
   "source": [
    "Let's do a plot using \"date\" as axis rather than decimalyear."
   ]
  },
  {
   "cell_type": "code",
   "execution_count": null,
   "id": "interstate-morocco",
   "metadata": {},
   "outputs": [],
   "source": [
    "library(\"ggplot2\")"
   ]
  },
  {
   "cell_type": "code",
   "execution_count": null,
   "id": "minus-softball",
   "metadata": {},
   "outputs": [],
   "source": [
    "ggplot(data=sealevel) + \n",
    "  geom_path(aes(x=date, y=sealevel))"
   ]
  },
  {
   "cell_type": "markdown",
   "id": "designed-optimization",
   "metadata": {},
   "source": [
    "This looks quite similar until we zoom in. Maybe we are interested in two years only."
   ]
  },
  {
   "cell_type": "code",
   "execution_count": null,
   "id": "preliminary-attendance",
   "metadata": {},
   "outputs": [],
   "source": [
    "as.POSIXct(\"2001-01-01\")"
   ]
  },
  {
   "cell_type": "code",
   "execution_count": null,
   "id": "unauthorized-organic",
   "metadata": {},
   "outputs": [],
   "source": [
    "c(as.POSIXct(\"1995-01-01\"),as.POSIXct(\"1997-01-01\"))"
   ]
  },
  {
   "cell_type": "code",
   "execution_count": null,
   "id": "floppy-engineering",
   "metadata": {},
   "outputs": [],
   "source": [
    "start = as.POSIXct(\"1995-01-01\")\n",
    "end   = as.POSIXct(\"1997-01-01\")\n",
    "ggplot(data=sealevel) + \n",
    "  geom_path(aes(x=date, y=sealevel)) + \n",
    "  scale_x_datetime(limits=c(start,end))"
   ]
  },
  {
   "cell_type": "markdown",
   "id": "deluxe-anatomy",
   "metadata": {},
   "source": [
    "Another advantage of `POSIXct` is that you can format it in any way you like."
   ]
  },
  {
   "cell_type": "code",
   "execution_count": null,
   "id": "developing-federation",
   "metadata": {},
   "outputs": [],
   "source": [
    "format(sealevel$date[1],\"%d.%m.%Y\")"
   ]
  },
  {
   "cell_type": "markdown",
   "id": "focused-driving",
   "metadata": {},
   "source": [
    " Use the `format()` function to get output in the following formats:\n",
    "\n",
    "* `Apr 04, 1855`\n",
    "* `4. April 1855`\n",
    "* `17/04/1855 11:17 AM`\n",
    "\n",
    "Hint: Getting help by typing `?format` will not tell you too much. But in the section \"Details\", it will tell you which specific `format` function exists for your data type. So you need to check out the help for that function."
   ]
  },
  {
   "cell_type": "code",
   "execution_count": null,
   "id": "awful-courtesy",
   "metadata": {},
   "outputs": [],
   "source": [
    "#?format.POSIXct\n",
    "format(sealevel$date[1],\"%b %m, %Y\")\n",
    "format(sealevel$date[1],\"%d. %B %Y\")\n",
    "format(sealevel$date[1],\"%d/%m/%Y %I:%M %p\")"
   ]
  },
  {
   "cell_type": "markdown",
   "id": "republican-knitting",
   "metadata": {},
   "source": [
    "<span style=\"color: red;\">Task: </span> Use the `format()` function to add a \"month\" column to our data.frame. Make sure it is numeric."
   ]
  },
  {
   "cell_type": "code",
   "execution_count": null,
   "id": "funded-broadcasting",
   "metadata": {},
   "outputs": [],
   "source": []
  },
  {
   "cell_type": "markdown",
   "id": "floral-friday",
   "metadata": {},
   "source": [
    "<span style=\"color: red;\">Task: </span> Plot the sea level data over a monthly time axis of 1 year length.\n",
    "\n",
    "Hint: You can use the following command to get the x axis nice:\n",
    "\n",
    "`scale_x_continuous(name = \"month\", limits=c(1,12), breaks=1:12)`"
   ]
  },
  {
   "cell_type": "code",
   "execution_count": null,
   "id": "following-humor",
   "metadata": {},
   "outputs": [],
   "source": [
    "library(ggplot2)"
   ]
  },
  {
   "cell_type": "code",
   "execution_count": null,
   "id": "friendly-champagne",
   "metadata": {},
   "outputs": [],
   "source": []
  },
  {
   "cell_type": "markdown",
   "id": "judicial-equality",
   "metadata": {},
   "source": [
    "## 2. Simple linear models"
   ]
  },
  {
   "cell_type": "markdown",
   "id": "minus-parallel",
   "metadata": {},
   "source": [
    "We skip this topic because we will have it in the time series analysis lecture."
   ]
  },
  {
   "cell_type": "markdown",
   "id": "union-midnight",
   "metadata": {},
   "source": [
    "## 3. Lists vs Vectors"
   ]
  },
  {
   "cell_type": "markdown",
   "id": "portable-style",
   "metadata": {},
   "source": [
    "You can have lists and vectors in R. They are different:\n",
    "\n",
    "|   | **Vectors**  |  **Lists**  |\n",
    "|---|---|---|\n",
    "| elements have | same type  | possibly different type |\n",
    "| generating  | `v = c(1,2,3)` |  `l = list(1,\"abc\",TRUE)`   |\n",
    "| accessing element `i` | `v[i]`  |  `l[[i]]` |\n",
    "| apply operations or functions  |  yes, directly  |  no, only using `lapply()`  |\n",
    "\n",
    "When you call some functions, they often return a list, so you should know how to work with them. Let's make an example. We create a histogram."
   ]
  },
  {
   "cell_type": "code",
   "execution_count": null,
   "id": "numeric-boost",
   "metadata": {},
   "outputs": [],
   "source": [
    "a = hist(sealevel$sealevel)"
   ]
  },
  {
   "cell_type": "markdown",
   "id": "lovely-favor",
   "metadata": {},
   "source": [
    "If we look at the Variable Inspector, it states that `a` is of type `histogram`. But actually, it's just a list."
   ]
  },
  {
   "cell_type": "code",
   "execution_count": null,
   "id": "moral-cartridge",
   "metadata": {},
   "outputs": [],
   "source": [
    "is.list(a)"
   ]
  },
  {
   "cell_type": "markdown",
   "id": "approved-imperial",
   "metadata": {},
   "source": [
    "So, we can access its elements. \n",
    "\n",
    "<span style=\"color: red;\">Task: </span> Type `a$` and press the TAB key. You can see that you can access its elements by their name."
   ]
  },
  {
   "cell_type": "code",
   "execution_count": null,
   "id": "suspected-return",
   "metadata": {},
   "outputs": [],
   "source": []
  },
  {
   "cell_type": "markdown",
   "id": "nearby-trout",
   "metadata": {},
   "source": [
    "We can also access them by their index in the list using double square brackets."
   ]
  },
  {
   "cell_type": "code",
   "execution_count": null,
   "id": "reliable-manitoba",
   "metadata": {},
   "outputs": [],
   "source": [
    "a[[2]]"
   ]
  },
  {
   "cell_type": "markdown",
   "id": "impressed-serum",
   "metadata": {},
   "source": [
    "You can create your own lists like this:"
   ]
  },
  {
   "cell_type": "code",
   "execution_count": null,
   "id": "existing-lawyer",
   "metadata": {},
   "outputs": [],
   "source": [
    "mylist = list(text=\"My list\", vector=c(1,2,3))\n",
    "mylist"
   ]
  },
  {
   "cell_type": "markdown",
   "id": "insured-archives",
   "metadata": {},
   "source": [
    "And we can easily add elements, by their name or index."
   ]
  },
  {
   "cell_type": "code",
   "execution_count": null,
   "id": "subtle-palace",
   "metadata": {},
   "outputs": [],
   "source": [
    "mylist$histogram = a\n",
    "mylist[[4]]=\"Element 4\"\n",
    "mylist"
   ]
  },
  {
   "cell_type": "markdown",
   "id": "boxed-television",
   "metadata": {},
   "source": [
    "Note that the third element, `$histogram`, is also a list. So you can access its values by \n",
    "\n",
    "`mylist$histogram$counts`\n",
    "\n",
    "or by\n",
    "\n",
    "`mylist[[3]][[2]]`\n",
    "\n",
    "<span style=\"color: red;\">Bonus Task: </span> In part 1 of this introduction, we defined a function `largest_rises()`. Based on that, write a function `largest_rises_and_falls()` which will calculate both and then return a list with two elements: `rises` and `falls`."
   ]
  },
  {
   "cell_type": "code",
   "execution_count": null,
   "id": "threaded-nudist",
   "metadata": {},
   "outputs": [],
   "source": []
  },
  {
   "cell_type": "markdown",
   "id": "dynamic-screw",
   "metadata": {},
   "source": [
    "## 4. Working with NetCDF data (plotting a simple map)"
   ]
  },
  {
   "cell_type": "markdown",
   "id": "rocky-pixel",
   "metadata": {},
   "source": [
    "NetCDF is a very common file format that allows to store geospatial data. \n",
    "\n",
    "Advantages:\n",
    "* Commonly used\n",
    "* Self-describing (contains axes, units, ...)\n",
    "* Searchable (possible to load parts of the file)\n",
    "* Binary file, compression possible (small file size)\n",
    "* ...\n",
    "\n",
    "Disadvantages:\n",
    "* can only be read/written with the NetCDF library (included in a variety of software).\n",
    "\n",
    "In R, there are several packages that allow working with NetCDF data. We will use the RNetCDF package."
   ]
  },
  {
   "cell_type": "code",
   "execution_count": null,
   "id": "colonial-yield",
   "metadata": {},
   "outputs": [],
   "source": [
    "library(\"RNetCDF\")"
   ]
  },
  {
   "cell_type": "markdown",
   "id": "artificial-irish",
   "metadata": {},
   "source": [
    "NetCDF files are not \"loaded\" like normal ascii files. Instead we \n",
    "* \"open\" the file\n",
    "* \"inquire\" what is inside the file and \n",
    "* load what we need.\n",
    "\n",
    "We choose a file from the German Maritime and Hydrographic Agency (BSH) that contains SST for March of this year."
   ]
  },
  {
   "cell_type": "code",
   "execution_count": null,
   "id": "complicated-messaging",
   "metadata": {},
   "outputs": [],
   "source": [
    "nc = open.nc(\"/students_files/data/bsh_sst.nc\")\n",
    "fileinfo = file.inq.nc(nc)\n",
    "fileinfo"
   ]
  },
  {
   "cell_type": "markdown",
   "id": "rocky-edward",
   "metadata": {},
   "source": [
    "You see we have 3 dimensions and 4 variables. We can again \"inquire\" what these dimensions and variables are. But they start with 0, not with 1."
   ]
  },
  {
   "cell_type": "code",
   "execution_count": null,
   "id": "combined-purpose",
   "metadata": {},
   "outputs": [],
   "source": [
    "print(\"inquiring dimension 0\")\n",
    "dim.inq.nc(nc,0)\n",
    "print(\"inquiring dimension 1\")\n",
    "dim.inq.nc(nc,1)\n",
    "print(\"inquiring dimension 2\")\n",
    "dim.inq.nc(nc,2)"
   ]
  },
  {
   "cell_type": "code",
   "execution_count": null,
   "id": "immediate-response",
   "metadata": {},
   "outputs": [],
   "source": [
    "print(\"inquiring variable 0\")\n",
    "var.inq.nc(nc,0)\n",
    "print(\"inquiring variable 1\")\n",
    "var.inq.nc(nc,1)\n",
    "print(\"inquiring variable 2\")\n",
    "var.inq.nc(nc,2)\n",
    "print(\"inquiring variable 3\")\n",
    "var.inq.nc(nc,3)"
   ]
  },
  {
   "cell_type": "markdown",
   "id": "spare-priority",
   "metadata": {},
   "source": [
    "Let us write a function that makes it easier to check the variables in the file."
   ]
  },
  {
   "cell_type": "code",
   "execution_count": null,
   "id": "middle-north",
   "metadata": {},
   "outputs": [],
   "source": [
    "list_variables = function(nc) {\n",
    "    fileinfo = file.inq.nc(nc)\n",
    "    for (i in 0:(fileinfo$nvars - 1)) {\n",
    "        varinfo = var.inq.nc(nc,i)\n",
    "        print(paste0(varinfo$ndims,\" dim variable:    \",varinfo$name))\n",
    "        for (j in varinfo$dimids) {\n",
    "            diminfo = dim.inq.nc(nc,j)\n",
    "            print(paste0(\"   \",diminfo$name))\n",
    "        }\n",
    "    }\n",
    "}"
   ]
  },
  {
   "cell_type": "code",
   "execution_count": null,
   "id": "collectible-telephone",
   "metadata": {},
   "outputs": [],
   "source": [
    "list_variables(nc)"
   ]
  },
  {
   "cell_type": "markdown",
   "id": "pointed-microwave",
   "metadata": {},
   "source": [
    "We can then see which variable we may want to use. In our case it is mcsst that we want to plot, which depends on longitude, latitude and time. We can load the variable like this:"
   ]
  },
  {
   "cell_type": "code",
   "execution_count": null,
   "id": "plain-cabinet",
   "metadata": {},
   "outputs": [],
   "source": [
    "mcsst = var.get.nc(nc,\"mcsst\")"
   ]
  },
  {
   "cell_type": "markdown",
   "id": "handmade-speed",
   "metadata": {},
   "source": [
    "`mcsst` is an array. An array is something like a multidimensional matrix. Let us check its dimensions."
   ]
  },
  {
   "cell_type": "code",
   "execution_count": null,
   "id": "handmade-monroe",
   "metadata": {},
   "outputs": [],
   "source": [
    "dim(mcsst)"
   ]
  },
  {
   "cell_type": "markdown",
   "id": "excessive-mattress",
   "metadata": {},
   "source": [
    "It has three dimensions. The last one is the time dimension. Let us plot the first time step."
   ]
  },
  {
   "cell_type": "code",
   "execution_count": null,
   "id": "pediatric-manor",
   "metadata": {},
   "outputs": [],
   "source": [
    "image(mcsst[,,1])"
   ]
  },
  {
   "cell_type": "markdown",
   "id": "surgical-straight",
   "metadata": {},
   "source": [
    "This looks a bit weird, doesn't it? \n",
    "\n",
    "<span style=\"color: red;\">Task: </span> Where can you find Denmark?\n",
    "\n",
    "Maybe it makes sense to load the longitide and latitude values as well.\n",
    "\n",
    "<span style=\"color: red;\">Task: </span> Load the longitude and latidude values and save them as `lon` and `lat`."
   ]
  },
  {
   "cell_type": "code",
   "execution_count": null,
   "id": "saved-narrative",
   "metadata": {},
   "outputs": [],
   "source": []
  },
  {
   "cell_type": "markdown",
   "id": "million-sailing",
   "metadata": {},
   "source": [
    "Now we can try to do a better `image` plot."
   ]
  },
  {
   "cell_type": "code",
   "execution_count": null,
   "id": "swiss-proxy",
   "metadata": {},
   "outputs": [],
   "source": [
    "image(x=lon, y=lat, z=mcsst[,,1])"
   ]
  },
  {
   "cell_type": "markdown",
   "id": "serious-judgment",
   "metadata": {},
   "source": [
    "Okay that didn't work out but we got a nice error message. \n",
    "\n",
    "<span style=\"color: red;\">Task: </span> Use the simple `plot()` function to check which of the axes `lat` or `lon` is not increasingly ordered."
   ]
  },
  {
   "cell_type": "code",
   "execution_count": null,
   "id": "still-massage",
   "metadata": {},
   "outputs": [],
   "source": []
  },
  {
   "cell_type": "markdown",
   "id": "filled-selling",
   "metadata": {},
   "source": [
    "Obviously we have to revert the lat axis. We can use the `rev()` function to reverse a vector."
   ]
  },
  {
   "cell_type": "code",
   "execution_count": null,
   "id": "auburn-defeat",
   "metadata": {},
   "outputs": [],
   "source": [
    "lat = rev(lat)"
   ]
  },
  {
   "cell_type": "markdown",
   "id": "focal-convenience",
   "metadata": {},
   "source": [
    "But then we also have to reverse the second dimension of the array. We can do it using the `apply()` function. The trick is, always give those indexes that you would **not** want to apply the function to (the axes that you would like to keep)."
   ]
  },
  {
   "cell_type": "code",
   "execution_count": null,
   "id": "limiting-calculator",
   "metadata": {},
   "outputs": [],
   "source": [
    "mcsst = apply(mcsst, c(1,3), rev)"
   ]
  },
  {
   "cell_type": "markdown",
   "id": "graphic-rocket",
   "metadata": {},
   "source": [
    "Now we can try again."
   ]
  },
  {
   "cell_type": "code",
   "execution_count": null,
   "id": "opening-execution",
   "metadata": {},
   "outputs": [],
   "source": [
    "image(x=lon, y=lat, z=mcsst[,,1])"
   ]
  },
  {
   "cell_type": "markdown",
   "id": "engaged-baltimore",
   "metadata": {},
   "source": [
    "Again a nice error message. It tells us we have to flip the dimensions (transpose a matrix). This can be done with the `t()` function."
   ]
  },
  {
   "cell_type": "code",
   "execution_count": null,
   "id": "complete-latest",
   "metadata": {},
   "outputs": [],
   "source": [
    "image(x=lon, y=lat, z=t(mcsst[,,1]))"
   ]
  },
  {
   "cell_type": "markdown",
   "id": "according-championship",
   "metadata": {},
   "source": [
    "Wow, our first map! But, as always, we can draw much nicer ones using the `ggplot2` package. But to do so, we first have to create a data.frame like this:\n",
    "\n",
    "| lon | lat | sst |\n",
    "|---|---|---|\n",
    "| -4 | 49 | 0.1 |\n",
    "| -3 | 49 | 0.2 |\n",
    "| -2 | 49 | NA |\n",
    "| ... | ... | ... |\n",
    "\n",
    "It is easy to start with the `sst` column. We only have to use the `as.vector` function to convert the matrix to a vector."
   ]
  },
  {
   "cell_type": "code",
   "execution_count": null,
   "id": "alien-cedar",
   "metadata": {},
   "outputs": [],
   "source": [
    "sst_df = data.frame(sst=as.vector(mcsst[,,1]))"
   ]
  },
  {
   "cell_type": "markdown",
   "id": "liquid-detail",
   "metadata": {},
   "source": [
    "For the longitude and latitude, we have to check which of them changes fastest. I always do that by try and error."
   ]
  },
  {
   "cell_type": "code",
   "execution_count": null,
   "id": "dietary-population",
   "metadata": {},
   "outputs": [],
   "source": [
    "sst_df$lon = rep(lon, length(lat))\n",
    "sst_df$lat = rep(lat, each=length(lon))"
   ]
  },
  {
   "cell_type": "code",
   "execution_count": null,
   "id": "identical-comparative",
   "metadata": {},
   "outputs": [],
   "source": [
    "library(\"ggplot2\")"
   ]
  },
  {
   "cell_type": "code",
   "execution_count": null,
   "id": "invalid-gibraltar",
   "metadata": {},
   "outputs": [],
   "source": [
    "ggplot(data=sst_df) + geom_raster(aes(x=lon,y=lat,fill=sst))"
   ]
  },
  {
   "cell_type": "markdown",
   "id": "fitting-nature",
   "metadata": {},
   "source": [
    "That looks ugly so we have to do it the other way around."
   ]
  },
  {
   "cell_type": "code",
   "execution_count": null,
   "id": "buried-gauge",
   "metadata": {},
   "outputs": [],
   "source": [
    "sst_df$lon = rep(lon, each=length(lat))\n",
    "sst_df$lat = rep(lat, length(lon))\n",
    "ggplot(data=sst_df) + geom_raster(aes(x=lon,y=lat,fill=sst))"
   ]
  },
  {
   "cell_type": "markdown",
   "id": "western-netherlands",
   "metadata": {},
   "source": [
    "But having a coastline would also be nice. Let us load one from a text file."
   ]
  },
  {
   "cell_type": "code",
   "execution_count": null,
   "id": "proved-imagination",
   "metadata": {},
   "outputs": [],
   "source": [
    "coastline = read.csv2(\"/students_files/data/coastline_baltic.txt\", sep=\"\", stringsAsFactors=FALSE)\n",
    "colnames(coastline) = c(\"lon\", \"lat\")\n",
    "coastline$lon=as.numeric(coastline$lon)\n",
    "coastline$lat=as.numeric(coastline$lat)\n",
    "head(coastline)"
   ]
  },
  {
   "cell_type": "markdown",
   "id": "international-dodge",
   "metadata": {},
   "source": [
    "Let's put it into the map."
   ]
  },
  {
   "cell_type": "code",
   "execution_count": null,
   "id": "covered-nylon",
   "metadata": {},
   "outputs": [],
   "source": [
    "sst_df$lon = rep(lon, each=length(lat))\n",
    "sst_df$lat = rep(lat, length(lon))\n",
    "ggplot(data=sst_df) + \n",
    "  geom_raster(aes(x=lon,y=lat,fill=sst)) +\n",
    "  geom_path(aes(x=lon,y=lat), data=coastline) +\n",
    "  scale_x_continuous(limits=c(0,31)) +\n",
    "  scale_y_continuous(limits=c(50,66)) +\n",
    "  scale_fill_gradientn(colours = c(\"darkblue\",\"green\",\"yellow\",\"red\"), values=c(0,0.3,0.7,1), na.value = \"white\")"
   ]
  },
  {
   "cell_type": "markdown",
   "id": "tough-contract",
   "metadata": {},
   "source": [
    "<span style=\"color: red;\">Bonus Task: </span> Create a temporal mean over the 13 days using the `apply()` function (using `mean` with `na.rm=TRUE`) and do a plot of this mean temperature from March 1st to 13th."
   ]
  },
  {
   "cell_type": "code",
   "execution_count": null,
   "id": "monthly-glasgow",
   "metadata": {},
   "outputs": [],
   "source": []
  },
  {
   "cell_type": "markdown",
   "id": "thirty-charleston",
   "metadata": {},
   "source": [
    "We have not yet made use of the **attributes** of the variables in the NetCDF file. They are important because they may contain the unit or a description of what the variable actually is.\n",
    "\n",
    "Let us look at the result of `var.inq.nc()` for the `time` variable."
   ]
  },
  {
   "cell_type": "code",
   "execution_count": null,
   "id": "animated-instruction",
   "metadata": {},
   "outputs": [],
   "source": [
    "var.inq.nc(nc,\"time\")"
   ]
  },
  {
   "cell_type": "markdown",
   "id": "willing-jerusalem",
   "metadata": {},
   "source": [
    "There are 4 attributes for this variable. Let's look at the first one:"
   ]
  },
  {
   "cell_type": "code",
   "execution_count": null,
   "id": "alpine-behavior",
   "metadata": {},
   "outputs": [],
   "source": [
    "att.inq.nc(nc,\"time\",0)\n",
    "att.get.nc(nc,\"time\",0)"
   ]
  },
  {
   "cell_type": "markdown",
   "id": "partial-brass",
   "metadata": {},
   "source": [
    "Again it may make sense to write a small function."
   ]
  },
  {
   "cell_type": "code",
   "execution_count": null,
   "id": "aware-migration",
   "metadata": {},
   "outputs": [],
   "source": [
    "list_attributes = function(nc, varname) {\n",
    "    varinfo = var.inq.nc(nc, varname)\n",
    "    print(paste0(varinfo$natts,\" attributes for variable \",varname,\":\"))\n",
    "    for (i in 0:(varinfo$natts - 1)) {\n",
    "        attinfo = att.inq.nc(nc,varname,i)\n",
    "        attvalue = att.get.nc(nc,varname,i)\n",
    "        print(paste0(\"   \",attinfo$name,\" = \",attvalue))\n",
    "    }\n",
    "}"
   ]
  },
  {
   "cell_type": "code",
   "execution_count": null,
   "id": "forward-probe",
   "metadata": {},
   "outputs": [],
   "source": [
    "list_attributes(nc, \"time\")"
   ]
  },
  {
   "cell_type": "markdown",
   "id": "oriented-lover",
   "metadata": {},
   "source": [
    "<span style=\"color: red;\">Bonus Task: </span> Read the `time` variable. Use the information you see in the `units` attribute to create a time axis in the `POSIXct` format. Then, create a time series plot for `mcsst[185,144,]`"
   ]
  },
  {
   "cell_type": "code",
   "execution_count": null,
   "id": "generic-nudist",
   "metadata": {},
   "outputs": [],
   "source": []
  },
  {
   "cell_type": "markdown",
   "id": "minor-blues",
   "metadata": {},
   "source": [
    "## 5. Basic statistical tests"
   ]
  },
  {
   "cell_type": "markdown",
   "id": "played-thailand",
   "metadata": {},
   "source": [
    "If you want to do statistical tests, most of them are already implemented in R. The trick is to find out which of your tests is appropriate for your research question. \n",
    "\n",
    "Some commonly used tests are explained here:\n",
    "\n",
    "[ http://r-statistics.co/Statistical-Tests-in-R.html ]\n",
    "\n",
    "A large overview on statistical tests can be found here:\n",
    "\n",
    "[ http://www.biostathandbook.com/testchoice.html ]"
   ]
  },
  {
   "cell_type": "markdown",
   "id": "forbidden-bahamas",
   "metadata": {},
   "source": [
    "Let's just create two random time series and do a few statistical tests on them to see how it works."
   ]
  },
  {
   "cell_type": "code",
   "execution_count": null,
   "id": "strong-yugoslavia",
   "metadata": {},
   "outputs": [],
   "source": [
    "series1 = runif(100)\n",
    "series2 = runif(100)\n",
    "plot(series1)\n",
    "points(series2, col=\"red\")"
   ]
  },
  {
   "cell_type": "code",
   "execution_count": null,
   "id": "precious-facing",
   "metadata": {},
   "outputs": [],
   "source": [
    "t.test(series1, series2, alternative=\"greater\")"
   ]
  },
  {
   "cell_type": "markdown",
   "id": "statistical-transcript",
   "metadata": {},
   "source": [
    "<span style=\"color: red;\">Task: </span> Try to extract the p-value and save it in a variable `p`. Hint: use the `is.list()` function to check if the result of `t.test()` is a list."
   ]
  },
  {
   "cell_type": "code",
   "execution_count": null,
   "id": "outstanding-pakistan",
   "metadata": {},
   "outputs": [],
   "source": []
  },
  {
   "cell_type": "code",
   "execution_count": null,
   "id": "eligible-greene",
   "metadata": {},
   "outputs": [],
   "source": []
  },
  {
   "cell_type": "markdown",
   "id": "productive-excerpt",
   "metadata": {},
   "source": [
    "<span style=\"color: red;\">Task: </span> Go to the following webpage\n",
    "\n",
    "[ http://www.biostathandbook.com/testchoice.html ]\n",
    "\n",
    "and find a test to check whether the variance differs between the two vectors. Do this test in R. \n",
    "\n",
    "Hint: The functions are typically named like the tests. Type the first letters of the test name and then push the tab key (autocomplete) to see whuch functions are available."
   ]
  },
  {
   "cell_type": "code",
   "execution_count": null,
   "id": "southwest-bumper",
   "metadata": {},
   "outputs": [],
   "source": []
  }
 ],
 "metadata": {
  "kernelspec": {
   "display_name": "R",
   "language": "R",
   "name": "ir"
  },
  "language_info": {
   "codemirror_mode": "r",
   "file_extension": ".r",
   "mimetype": "text/x-r-source",
   "name": "R",
   "pygments_lexer": "r",
   "version": "4.0.3"
  }
 },
 "nbformat": 4,
 "nbformat_minor": 5
}
