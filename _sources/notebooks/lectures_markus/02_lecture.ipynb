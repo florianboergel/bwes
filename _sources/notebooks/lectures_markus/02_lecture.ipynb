{
 "cells": [
  {
   "cell_type": "markdown",
   "metadata": {},
   "source": [
    "# Lecture 2: Probability"
   ]
  },
  {
   "cell_type": "markdown",
   "metadata": {},
   "source": [
    "> Examples of uncertain/stochastic events:\n",
    "- Coin tossing,\n",
    "- Lottery numbers,\n",
    "- Rainfall at certain time/place,\n",
    "- Any kind of physical quantity of a stochastic or thermodynamical process"
   ]
  },
  {
   "cell_type": "markdown",
   "metadata": {},
   "source": [
    "> Examples of certain/deterministic events:\n",
    "- Length of a body (table, room or ship)\n",
    "- time of the sun rise,\n",
    "- wave propagation,\n",
    "- Any kind of physical quantity of a deterministic process (with well-defined initial values)."
   ]
  },
  {
   "cell_type": "markdown",
   "metadata": {},
   "source": [
    "Probability of an event $P$\n",
    "\n",
    "Sample space $S$\n",
    "\n",
    "Tossing dices: $S=[1,2,3,4,5,6]$ with an event\n",
    "$A$ = 1 or the event $B$ =odd number=[1,3,5]\n",
    "\n",
    "$$ P(A) \\in [0,1]$$\n",
    "$$ P(S) = 1 $$\n",
    "\n",
    "Sometimes it is easier to compute $P$ of the complement of an event:\n",
    "\n",
    "$$ S=A \\cup \\neg A \\text{ unity}$$  \n",
    "\n",
    "$$A \\cap \\neg A = 0 $$ "
   ]
  },
  {
   "cell_type": "markdown",
   "metadata": {},
   "source": [
    "$$ P(A) = 1 - P(\\neg A) $$\n",
    "\n",
    "**Exercise**: $P$ for tossing the number 6 at least once with 3 dices\n",
    "\n",
    "**Answer**: \n",
    "\n",
    "$$ P(\\neg A) = (5/6)3 => P(A) = 1 - (5/6)3 \\approx 0.42 $$\n",
    "\n",
    "Two mutually exclusive events: \n",
    "\n",
    "$$ A \\cap B = 0 => P(A \\cup B)=P(A)+P(B) $$\n",
    "\n",
    "In general:\n",
    "\n",
    "$$ P(A \\cup B) = P(A) + P(B) - P(A \\cap B) $$\n",
    "\n",
    "**Exercise**:\n",
    "- $A$ = even number\n",
    "- $B$ < 4, $P(A \\cap B)$ = ?\n",
    "\n",
    "**Answer**: \n",
    "\n",
    "$$P(A \\cup B) = 5/6 => P(A \\cap B) = 1/6$$"
   ]
  },
  {
   "cell_type": "markdown",
   "metadata": {},
   "source": [
    "## Conditional probability\n",
    "\n",
    "**Example:**\n",
    "\n",
    "$A$ = storm, $B$ = winter\n",
    "\n",
    "$$ P(A│B) \\neq P(A) $$\n",
    "$$ P(B) \\neq 0 => P(A│B) = P(A \\cap B) / P(B)$$"
   ]
  },
  {
   "cell_type": "markdown",
   "metadata": {},
   "source": [
    "## Independece\n",
    "\n",
    "$$ P(A \\cap B) = P(A) P(B) $$"
   ]
  }
 ],
 "metadata": {
  "language_info": {
   "name": "python"
  },
  "orig_nbformat": 4
 },
 "nbformat": 4,
 "nbformat_minor": 2
}
